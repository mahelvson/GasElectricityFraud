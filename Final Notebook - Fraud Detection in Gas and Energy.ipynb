{
 "cells": [
  {
   "cell_type": "markdown",
   "id": "9be57c45",
   "metadata": {},
   "source": [
    "# 0. Imports "
   ]
  },
  {
   "cell_type": "code",
   "execution_count": 1,
   "id": "cfa4b5a4",
   "metadata": {},
   "outputs": [],
   "source": [
    "import matplotlib\n",
    "\n",
    "import pandas as pd\n",
    "import matplotlib.pyplot as plt\n",
    "import seaborn as sns\n",
    "import sklearn as sk\n",
    "import numpy as np"
   ]
  },
  {
   "cell_type": "markdown",
   "id": "72db1d00",
   "metadata": {},
   "source": [
    "# 1. Loading Data "
   ]
  },
  {
   "cell_type": "code",
   "execution_count": 2,
   "id": "84d861b4",
   "metadata": {},
   "outputs": [],
   "source": [
    "df1_client_train = pd.read_csv('dataset/client_train.csv', low_memory=False)\n",
    "df1_invoice_train = pd.read_csv('dataset/invoice_train.csv', low_memory=False)"
   ]
  },
  {
   "cell_type": "markdown",
   "id": "a29c66f7",
   "metadata": {},
   "source": [
    "# 2. Data Description "
   ]
  },
  {
   "cell_type": "code",
   "execution_count": 3,
   "id": "a51ecb24",
   "metadata": {},
   "outputs": [],
   "source": [
    "df2_client_train = df1_client_train.copy()\n",
    "df2_invoice_train = df1_invoice_train.copy()"
   ]
  },
  {
   "cell_type": "markdown",
   "id": "e6d2afaf",
   "metadata": {},
   "source": [
    "## 2.0 Data Dimensions "
   ]
  },
  {
   "cell_type": "code",
   "execution_count": 4,
   "id": "7513789d",
   "metadata": {},
   "outputs": [
    {
     "name": "stdout",
     "output_type": "stream",
     "text": [
      "df2_client_train (lines = 135493, cols = 6)\n",
      "df2_invoice_train (lines = 4476749, cols = 16)\n"
     ]
    }
   ],
   "source": [
    "print(f'df2_client_train (lines = {df2_client_train.shape[0]}, cols = {df2_client_train.shape[1]})')\n",
    "print(f'df2_invoice_train (lines = {df2_invoice_train.shape[0]}, cols = {df2_invoice_train.shape[1]})')"
   ]
  },
  {
   "cell_type": "markdown",
   "id": "12b93908",
   "metadata": {},
   "source": [
    "## 2.1 Data Types "
   ]
  },
  {
   "cell_type": "code",
   "execution_count": 5,
   "id": "8fd375e3",
   "metadata": {},
   "outputs": [
    {
     "name": "stdout",
     "output_type": "stream",
     "text": [
      "-----------------------------------\n",
      "df2_client_train\n",
      "-----------------------------------\n",
      "disrict            int64\n",
      "client_id         object\n",
      "client_catg        int64\n",
      "region             int64\n",
      "creation_date     object\n",
      "target           float64\n",
      "dtype: object\n",
      "-----------------------------------\n",
      "df2_invoice_train\n",
      "-----------------------------------\n",
      "client_id               object\n",
      "invoice_date            object\n",
      "tarif_type               int64\n",
      "counter_number           int64\n",
      "counter_statue          object\n",
      "counter_code             int64\n",
      "reading_remarque         int64\n",
      "counter_coefficient      int64\n",
      "consommation_level_1     int64\n",
      "consommation_level_2     int64\n",
      "consommation_level_3     int64\n",
      "consommation_level_4     int64\n",
      "old_index                int64\n",
      "new_index                int64\n",
      "months_number            int64\n",
      "counter_type            object\n",
      "dtype: object\n"
     ]
    }
   ],
   "source": [
    "print('-----------------------------------')\n",
    "print('df2_client_train')\n",
    "print('-----------------------------------')\n",
    "print(df2_client_train.dtypes)\n",
    "print('-----------------------------------')\n",
    "print('df2_invoice_train')\n",
    "print('-----------------------------------')\n",
    "print(df2_invoice_train.dtypes)"
   ]
  },
  {
   "cell_type": "markdown",
   "id": "6360d163",
   "metadata": {},
   "source": [
    "## 2.2 Checking Na "
   ]
  },
  {
   "cell_type": "code",
   "execution_count": 6,
   "id": "58f9b3fd",
   "metadata": {},
   "outputs": [
    {
     "name": "stdout",
     "output_type": "stream",
     "text": [
      "-----------------------------------\n",
      "df2_client_train\n",
      "-----------------------------------\n",
      "disrict          0\n",
      "client_id        0\n",
      "client_catg      0\n",
      "region           0\n",
      "creation_date    0\n",
      "target           0\n",
      "dtype: int64\n",
      "-----------------------------------\n",
      "df2_invoice_train\n",
      "-----------------------------------\n",
      "client_id               0\n",
      "invoice_date            0\n",
      "tarif_type              0\n",
      "counter_number          0\n",
      "counter_statue          0\n",
      "counter_code            0\n",
      "reading_remarque        0\n",
      "counter_coefficient     0\n",
      "consommation_level_1    0\n",
      "consommation_level_2    0\n",
      "consommation_level_3    0\n",
      "consommation_level_4    0\n",
      "old_index               0\n",
      "new_index               0\n",
      "months_number           0\n",
      "counter_type            0\n",
      "dtype: int64\n"
     ]
    }
   ],
   "source": [
    "print('-----------------------------------')\n",
    "print('df2_client_train')\n",
    "print('-----------------------------------')\n",
    "print(df2_client_train.isna().sum())\n",
    "print('-----------------------------------')\n",
    "print('df2_invoice_train')\n",
    "print('-----------------------------------')\n",
    "print(df2_invoice_train.isna().sum())\n"
   ]
  },
  {
   "cell_type": "markdown",
   "id": "867d51bc",
   "metadata": {},
   "source": [
    "## 2.3 Data Overview "
   ]
  },
  {
   "cell_type": "markdown",
   "id": "024683d2",
   "metadata": {},
   "source": [
    "### 2.3.1 Clients "
   ]
  },
  {
   "cell_type": "code",
   "execution_count": 7,
   "id": "b9cb4b2d",
   "metadata": {},
   "outputs": [
    {
     "data": {
      "text/plain": [
       "['disrict', 'client_id', 'client_catg', 'region', 'creation_date', 'target']"
      ]
     },
     "execution_count": 7,
     "metadata": {},
     "output_type": "execute_result"
    }
   ],
   "source": [
    "df2_client_train.columns.tolist()"
   ]
  },
  {
   "cell_type": "code",
   "execution_count": 8,
   "id": "fcafd822",
   "metadata": {},
   "outputs": [
    {
     "data": {
      "image/png": "[encoded data removed]",
      "text/plain": [
       "<Figure size 400x200 with 1 Axes>"
      ]
     },
     "metadata": {},
     "output_type": "display_data"
    }
   ],
   "source": [
    "plt.figure(figsize=(4,2));\n",
    "sns.countplot(data=df2_client_train, x='disrict');\n",
    "plt.title('Disrict'); # provavelmente distrito"
   ]
  },
  {
   "cell_type": "code",
   "execution_count": 9,
   "id": "6954d968",
   "metadata": {},
   "outputs": [
    {
     "data": {
      "image/png": "[encoded data removed]",
      "text/plain": [
       "<Figure size 400x200 with 1 Axes>"
      ]
     },
     "metadata": {},
     "output_type": "display_data"
    }
   ],
   "source": [
    "plt.figure(figsize=(4,2));\n",
    "sns.countplot(data=df2_client_train, x='client_catg');\n",
    "plt.title('Client Category');"
   ]
  },
  {
   "cell_type": "code",
   "execution_count": 10,
   "id": "26b12239",
   "metadata": {},
   "outputs": [
    {
     "data": {
      "image/png": "[encoded data removed]",
      "text/plain": [
       "<Figure size 900x200 with 1 Axes>"
      ]
     },
     "metadata": {},
     "output_type": "display_data"
    }
   ],
   "source": [
    "plt.figure(figsize=(9,2));\n",
    "sns.countplot(data=df2_client_train, x='region');\n",
    "plt.title('Region');"
   ]
  },
  {
   "cell_type": "code",
   "execution_count": 11,
   "id": "5f45562d",
   "metadata": {},
   "outputs": [
    {
     "data": {
      "image/png": "[encoded data removed]",
      "text/plain": [
       "<Figure size 400x200 with 1 Axes>"
      ]
     },
     "metadata": {},
     "output_type": "display_data"
    }
   ],
   "source": [
    "plt.figure(figsize=(4,2))\n",
    "sns.countplot(data=df2_client_train, x='target');\n",
    "plt.title('Target');"
   ]
  },
  {
   "cell_type": "code",
   "execution_count": 12,
   "id": "cf094a9e",
   "metadata": {},
   "outputs": [
    {
     "data": {
      "text/html": [
       "<div>\n",
       "<style scoped>\n",
       "    .dataframe tbody tr th:only-of-type {\n",
       "        vertical-align: middle;\n",
       "    }\n",
       "\n",
       "    .dataframe tbody tr th {\n",
       "        vertical-align: top;\n",
       "    }\n",
       "\n",
       "    .dataframe thead th {\n",
       "        text-align: right;\n",
       "    }\n",
       "</style>\n",
       "<table border=\"1\" class=\"dataframe\">\n",
       "  <thead>\n",
       "    <tr style=\"text-align: right;\">\n",
       "      <th></th>\n",
       "      <th>disrict</th>\n",
       "      <th>client_catg</th>\n",
       "      <th>region</th>\n",
       "      <th>target</th>\n",
       "    </tr>\n",
       "  </thead>\n",
       "  <tbody>\n",
       "    <tr>\n",
       "      <th>count</th>\n",
       "      <td>135493.000000</td>\n",
       "      <td>135493.000000</td>\n",
       "      <td>135493.000000</td>\n",
       "      <td>135493.000000</td>\n",
       "    </tr>\n",
       "    <tr>\n",
       "      <th>mean</th>\n",
       "      <td>63.511222</td>\n",
       "      <td>11.512506</td>\n",
       "      <td>206.159809</td>\n",
       "      <td>0.055841</td>\n",
       "    </tr>\n",
       "    <tr>\n",
       "      <th>std</th>\n",
       "      <td>3.354400</td>\n",
       "      <td>4.423761</td>\n",
       "      <td>104.207044</td>\n",
       "      <td>0.229614</td>\n",
       "    </tr>\n",
       "    <tr>\n",
       "      <th>min</th>\n",
       "      <td>60.000000</td>\n",
       "      <td>11.000000</td>\n",
       "      <td>101.000000</td>\n",
       "      <td>0.000000</td>\n",
       "    </tr>\n",
       "    <tr>\n",
       "      <th>25%</th>\n",
       "      <td>62.000000</td>\n",
       "      <td>11.000000</td>\n",
       "      <td>103.000000</td>\n",
       "      <td>0.000000</td>\n",
       "    </tr>\n",
       "    <tr>\n",
       "      <th>50%</th>\n",
       "      <td>62.000000</td>\n",
       "      <td>11.000000</td>\n",
       "      <td>107.000000</td>\n",
       "      <td>0.000000</td>\n",
       "    </tr>\n",
       "    <tr>\n",
       "      <th>75%</th>\n",
       "      <td>69.000000</td>\n",
       "      <td>11.000000</td>\n",
       "      <td>307.000000</td>\n",
       "      <td>0.000000</td>\n",
       "    </tr>\n",
       "    <tr>\n",
       "      <th>max</th>\n",
       "      <td>69.000000</td>\n",
       "      <td>51.000000</td>\n",
       "      <td>399.000000</td>\n",
       "      <td>1.000000</td>\n",
       "    </tr>\n",
       "  </tbody>\n",
       "</table>\n",
       "</div>"
      ],
      "text/plain": [
       "             disrict    client_catg         region         target\n",
       "count  135493.000000  135493.000000  135493.000000  135493.000000\n",
       "mean       63.511222      11.512506     206.159809       0.055841\n",
       "std         3.354400       4.423761     104.207044       0.229614\n",
       "min        60.000000      11.000000     101.000000       0.000000\n",
       "25%        62.000000      11.000000     103.000000       0.000000\n",
       "50%        62.000000      11.000000     107.000000       0.000000\n",
       "75%        69.000000      11.000000     307.000000       0.000000\n",
       "max        69.000000      51.000000     399.000000       1.000000"
      ]
     },
     "execution_count": 12,
     "metadata": {},
     "output_type": "execute_result"
    }
   ],
   "source": [
    "df2_client_train.describe()"
   ]
  },
  {
   "cell_type": "markdown",
   "id": "24cb2f5f",
   "metadata": {},
   "source": [
    "### 2.3.2 Invoices "
   ]
  },
  {
   "cell_type": "code",
   "execution_count": 13,
   "id": "b5207ca2",
   "metadata": {},
   "outputs": [
    {
     "data": {
      "text/plain": [
       "['client_id',\n",
       " 'invoice_date',\n",
       " 'tarif_type',\n",
       " 'counter_number',\n",
       " 'counter_statue',\n",
       " 'counter_code',\n",
       " 'reading_remarque',\n",
       " 'counter_coefficient',\n",
       " 'consommation_level_1',\n",
       " 'consommation_level_2',\n",
       " 'consommation_level_3',\n",
       " 'consommation_level_4',\n",
       " 'old_index',\n",
       " 'new_index',\n",
       " 'months_number',\n",
       " 'counter_type']"
      ]
     },
     "execution_count": 13,
     "metadata": {},
     "output_type": "execute_result"
    }
   ],
   "source": [
    "df2_invoice_train.columns.tolist()"
   ]
  },
  {
   "cell_type": "code",
   "execution_count": 14,
   "id": "133151a3",
   "metadata": {},
   "outputs": [
    {
     "data": {
      "image/png": "[encoded data removed]",
      "text/plain": [
       "<Figure size 900x200 with 1 Axes>"
      ]
     },
     "metadata": {},
     "output_type": "display_data"
    }
   ],
   "source": [
    "plt.figure(figsize=(9,2))\n",
    "sns.countplot(data=df2_invoice_train, x='tarif_type');\n",
    "plt.title('Tarif Type');"
   ]
  },
  {
   "cell_type": "code",
   "execution_count": 15,
   "id": "aba34972",
   "metadata": {},
   "outputs": [
    {
     "data": {
      "image/png": "[encoded data removed]",
      "text/plain": [
       "<Figure size 900x200 with 1 Axes>"
      ]
     },
     "metadata": {},
     "output_type": "display_data"
    }
   ],
   "source": [
    "plt.figure(figsize=(9,2))\n",
    "sns.countplot(data=df2_invoice_train, x='counter_statue');\n",
    "plt.title('Counter Statue');"
   ]
  },
  {
   "cell_type": "code",
   "execution_count": 16,
   "id": "95452ce4",
   "metadata": {},
   "outputs": [
    {
     "data": {
      "image/png": "[encoded data removed]",
      "text/plain": [
       "<Figure size 900x200 with 1 Axes>"
      ]
     },
     "metadata": {},
     "output_type": "display_data"
    }
   ],
   "source": [
    "plt.figure(figsize=(9,2));\n",
    "sns.countplot(data=df2_invoice_train, x='reading_remarque');\n",
    "plt.title('Reading Remarque');"
   ]
  },
  {
   "cell_type": "code",
   "execution_count": 17,
   "id": "91deed4f",
   "metadata": {},
   "outputs": [
    {
     "data": {
      "image/png": "[encoded data removed]",
      "text/plain": [
       "<Figure size 900x200 with 1 Axes>"
      ]
     },
     "metadata": {},
     "output_type": "display_data"
    }
   ],
   "source": [
    "plt.figure(figsize=(9,2));\n",
    "sns.countplot(data=df2_invoice_train, x='counter_coefficient');\n",
    "plt.title('Counter Coefficient');"
   ]
  },
  {
   "cell_type": "code",
   "execution_count": 18,
   "id": "21de6522",
   "metadata": {},
   "outputs": [
    {
     "data": {
      "image/png": "[encoded data removed]",
      "text/plain": [
       "<Figure size 640x480 with 4 Axes>"
      ]
     },
     "metadata": {},
     "output_type": "display_data"
    }
   ],
   "source": [
    "font = {'weight': 'normal', 'size': 7}\n",
    "\n",
    "matplotlib.rc('font', **font)\n",
    "\n",
    "plt.subplot(2,2,1);\n",
    "plt.boxplot(df2_invoice_train.consommation_level_1);\n",
    "plt.title('Consommation Level 1');\n",
    "\n",
    "plt.subplot(2,2,2);\n",
    "plt.boxplot(df2_invoice_train.consommation_level_2);\n",
    "plt.title('Consommation Level 2');\n",
    "\n",
    "plt.subplot(2,2,3);\n",
    "plt.boxplot(df2_invoice_train.consommation_level_3);\n",
    "plt.xlabel('Consommation Level 3');\n",
    "\n",
    "plt.subplot(2,2,4);\n",
    "plt.boxplot(df2_invoice_train.consommation_level_4);\n",
    "plt.xlabel('Consommation Level 4');"
   ]
  },
  {
   "cell_type": "code",
   "execution_count": 19,
   "id": "cd43dfad",
   "metadata": {},
   "outputs": [
    {
     "data": {
      "image/png": "[encoded data removed]",
      "text/plain": [
       "<Figure size 640x480 with 4 Axes>"
      ]
     },
     "metadata": {},
     "output_type": "display_data"
    }
   ],
   "source": [
    "matplotlib.rc('font', **font)\n",
    "\n",
    "plt.subplot(2,2,1);\n",
    "sns.kdeplot(x=df2_invoice_train.consommation_level_1);\n",
    "plt.title('Consommation Level 1');\n",
    "\n",
    "plt.subplot(2,2,2);\n",
    "sns.kdeplot(x=df2_invoice_train.consommation_level_2);\n",
    "plt.title('Consommation Level 2');\n",
    "\n",
    "plt.subplot(2,2,3);\n",
    "sns.kdeplot(x=df2_invoice_train.consommation_level_3);\n",
    "plt.xlabel('Consommation Level 3');\n",
    "\n",
    "plt.subplot(2,2,4);\n",
    "sns.kdeplot(x=df2_invoice_train.consommation_level_4);\n",
    "plt.xlabel('Consommation Level 4');"
   ]
  },
  {
   "cell_type": "code",
   "execution_count": 20,
   "id": "0bed2d67",
   "metadata": {},
   "outputs": [
    {
     "data": {
      "image/png": "[encoded data removed]",
      "text/plain": [
       "<Figure size 400x200 with 1 Axes>"
      ]
     },
     "metadata": {},
     "output_type": "display_data"
    }
   ],
   "source": [
    "plt.figure(figsize=(4,2));\n",
    "sns.countplot(data=df2_invoice_train, x='counter_type');\n",
    "plt.title('Counter Type');"
   ]
  },
  {
   "cell_type": "code",
   "execution_count": 21,
   "id": "60792b4f",
   "metadata": {},
   "outputs": [
    {
     "data": {
      "image/png": "[encoded data removed]",
      "text/plain": [
       "<Figure size 400x200 with 1 Axes>"
      ]
     },
     "metadata": {},
     "output_type": "display_data"
    }
   ],
   "source": [
    "plt.figure(figsize=(4,2));\n",
    "sns.kdeplot(data=df2_invoice_train, x='months_number', shade=True);\n",
    "plt.title('Months Number');"
   ]
  },
  {
   "cell_type": "code",
   "execution_count": 22,
   "id": "d38b76b1",
   "metadata": {},
   "outputs": [
    {
     "data": {
      "text/html": [
       "<div>\n",
       "<style scoped>\n",
       "    .dataframe tbody tr th:only-of-type {\n",
       "        vertical-align: middle;\n",
       "    }\n",
       "\n",
       "    .dataframe tbody tr th {\n",
       "        vertical-align: top;\n",
       "    }\n",
       "\n",
       "    .dataframe thead th {\n",
       "        text-align: right;\n",
       "    }\n",
       "</style>\n",
       "<table border=\"1\" class=\"dataframe\">\n",
       "  <thead>\n",
       "    <tr style=\"text-align: right;\">\n",
       "      <th></th>\n",
       "      <th>tarif_type</th>\n",
       "      <th>counter_number</th>\n",
       "      <th>counter_code</th>\n",
       "      <th>reading_remarque</th>\n",
       "      <th>counter_coefficient</th>\n",
       "      <th>consommation_level_1</th>\n",
       "      <th>consommation_level_2</th>\n",
       "      <th>consommation_level_3</th>\n",
       "      <th>consommation_level_4</th>\n",
       "      <th>old_index</th>\n",
       "      <th>new_index</th>\n",
       "      <th>months_number</th>\n",
       "    </tr>\n",
       "  </thead>\n",
       "  <tbody>\n",
       "    <tr>\n",
       "      <th>count</th>\n",
       "      <td>4.476749e+06</td>\n",
       "      <td>4.476749e+06</td>\n",
       "      <td>4.476749e+06</td>\n",
       "      <td>4.476749e+06</td>\n",
       "      <td>4.476749e+06</td>\n",
       "      <td>4.476749e+06</td>\n",
       "      <td>4.476749e+06</td>\n",
       "      <td>4.476749e+06</td>\n",
       "      <td>4.476749e+06</td>\n",
       "      <td>4.476749e+06</td>\n",
       "      <td>4.476749e+06</td>\n",
       "      <td>4.476749e+06</td>\n",
       "    </tr>\n",
       "    <tr>\n",
       "      <th>mean</th>\n",
       "      <td>2.012804e+01</td>\n",
       "      <td>1.230587e+11</td>\n",
       "      <td>1.724884e+02</td>\n",
       "      <td>7.321702e+00</td>\n",
       "      <td>1.003040e+00</td>\n",
       "      <td>4.109795e+02</td>\n",
       "      <td>1.093225e+02</td>\n",
       "      <td>2.030620e+01</td>\n",
       "      <td>5.292588e+01</td>\n",
       "      <td>1.776700e+04</td>\n",
       "      <td>1.834970e+04</td>\n",
       "      <td>4.483095e+01</td>\n",
       "    </tr>\n",
       "    <tr>\n",
       "      <th>std</th>\n",
       "      <td>1.347256e+01</td>\n",
       "      <td>1.657267e+12</td>\n",
       "      <td>1.338871e+02</td>\n",
       "      <td>1.571654e+00</td>\n",
       "      <td>3.083466e-01</td>\n",
       "      <td>7.573080e+02</td>\n",
       "      <td>1.220123e+03</td>\n",
       "      <td>1.574239e+02</td>\n",
       "      <td>8.754725e+02</td>\n",
       "      <td>4.036693e+04</td>\n",
       "      <td>4.095321e+04</td>\n",
       "      <td>3.128335e+03</td>\n",
       "    </tr>\n",
       "    <tr>\n",
       "      <th>min</th>\n",
       "      <td>8.000000e+00</td>\n",
       "      <td>0.000000e+00</td>\n",
       "      <td>0.000000e+00</td>\n",
       "      <td>5.000000e+00</td>\n",
       "      <td>0.000000e+00</td>\n",
       "      <td>0.000000e+00</td>\n",
       "      <td>0.000000e+00</td>\n",
       "      <td>0.000000e+00</td>\n",
       "      <td>0.000000e+00</td>\n",
       "      <td>0.000000e+00</td>\n",
       "      <td>0.000000e+00</td>\n",
       "      <td>0.000000e+00</td>\n",
       "    </tr>\n",
       "    <tr>\n",
       "      <th>25%</th>\n",
       "      <td>1.100000e+01</td>\n",
       "      <td>1.211080e+05</td>\n",
       "      <td>5.000000e+00</td>\n",
       "      <td>6.000000e+00</td>\n",
       "      <td>1.000000e+00</td>\n",
       "      <td>7.900000e+01</td>\n",
       "      <td>0.000000e+00</td>\n",
       "      <td>0.000000e+00</td>\n",
       "      <td>0.000000e+00</td>\n",
       "      <td>1.791000e+03</td>\n",
       "      <td>2.056000e+03</td>\n",
       "      <td>4.000000e+00</td>\n",
       "    </tr>\n",
       "    <tr>\n",
       "      <th>50%</th>\n",
       "      <td>1.100000e+01</td>\n",
       "      <td>4.945610e+05</td>\n",
       "      <td>2.030000e+02</td>\n",
       "      <td>8.000000e+00</td>\n",
       "      <td>1.000000e+00</td>\n",
       "      <td>2.740000e+02</td>\n",
       "      <td>0.000000e+00</td>\n",
       "      <td>0.000000e+00</td>\n",
       "      <td>0.000000e+00</td>\n",
       "      <td>7.690000e+03</td>\n",
       "      <td>8.192000e+03</td>\n",
       "      <td>4.000000e+00</td>\n",
       "    </tr>\n",
       "    <tr>\n",
       "      <th>75%</th>\n",
       "      <td>4.000000e+01</td>\n",
       "      <td>1.115161e+06</td>\n",
       "      <td>2.070000e+02</td>\n",
       "      <td>9.000000e+00</td>\n",
       "      <td>1.000000e+00</td>\n",
       "      <td>6.000000e+02</td>\n",
       "      <td>0.000000e+00</td>\n",
       "      <td>0.000000e+00</td>\n",
       "      <td>0.000000e+00</td>\n",
       "      <td>2.166000e+04</td>\n",
       "      <td>2.234300e+04</td>\n",
       "      <td>4.000000e+00</td>\n",
       "    </tr>\n",
       "    <tr>\n",
       "      <th>max</th>\n",
       "      <td>4.500000e+01</td>\n",
       "      <td>2.798115e+13</td>\n",
       "      <td>6.000000e+02</td>\n",
       "      <td>4.130000e+02</td>\n",
       "      <td>5.000000e+01</td>\n",
       "      <td>9.999100e+05</td>\n",
       "      <td>9.990730e+05</td>\n",
       "      <td>6.449200e+04</td>\n",
       "      <td>5.479460e+05</td>\n",
       "      <td>2.800280e+06</td>\n",
       "      <td>2.870972e+06</td>\n",
       "      <td>6.366240e+05</td>\n",
       "    </tr>\n",
       "  </tbody>\n",
       "</table>\n",
       "</div>"
      ],
      "text/plain": [
       "         tarif_type  counter_number  counter_code  reading_remarque  \\\n",
       "count  4.476749e+06    4.476749e+06  4.476749e+06      4.476749e+06   \n",
       "mean   2.012804e+01    1.230587e+11  1.724884e+02      7.321702e+00   \n",
       "std    1.347256e+01    1.657267e+12  1.338871e+02      1.571654e+00   \n",
       "min    8.000000e+00    0.000000e+00  0.000000e+00      5.000000e+00   \n",
       "25%    1.100000e+01    1.211080e+05  5.000000e+00      6.000000e+00   \n",
       "50%    1.100000e+01    4.945610e+05  2.030000e+02      8.000000e+00   \n",
       "75%    4.000000e+01    1.115161e+06  2.070000e+02      9.000000e+00   \n",
       "max    4.500000e+01    2.798115e+13  6.000000e+02      4.130000e+02   \n",
       "\n",
       "       counter_coefficient  consommation_level_1  consommation_level_2  \\\n",
       "count         4.476749e+06          4.476749e+06          4.476749e+06   \n",
       "mean          1.003040e+00          4.109795e+02          1.093225e+02   \n",
       "std           3.083466e-01          7.573080e+02          1.220123e+03   \n",
       "min           0.000000e+00          0.000000e+00          0.000000e+00   \n",
       "25%           1.000000e+00          7.900000e+01          0.000000e+00   \n",
       "50%           1.000000e+00          2.740000e+02          0.000000e+00   \n",
       "75%           1.000000e+00          6.000000e+02          0.000000e+00   \n",
       "max           5.000000e+01          9.999100e+05          9.990730e+05   \n",
       "\n",
       "       consommation_level_3  consommation_level_4     old_index     new_index  \\\n",
       "count          4.476749e+06          4.476749e+06  4.476749e+06  4.476749e+06   \n",
       "mean           2.030620e+01          5.292588e+01  1.776700e+04  1.834970e+04   \n",
       "std            1.574239e+02          8.754725e+02  4.036693e+04  4.095321e+04   \n",
       "min            0.000000e+00          0.000000e+00  0.000000e+00  0.000000e+00   \n",
       "25%            0.000000e+00          0.000000e+00  1.791000e+03  2.056000e+03   \n",
       "50%            0.000000e+00          0.000000e+00  7.690000e+03  8.192000e+03   \n",
       "75%            0.000000e+00          0.000000e+00  2.166000e+04  2.234300e+04   \n",
       "max            6.449200e+04          5.479460e+05  2.800280e+06  2.870972e+06   \n",
       "\n",
       "       months_number  \n",
       "count   4.476749e+06  \n",
       "mean    4.483095e+01  \n",
       "std     3.128335e+03  \n",
       "min     0.000000e+00  \n",
       "25%     4.000000e+00  \n",
       "50%     4.000000e+00  \n",
       "75%     4.000000e+00  \n",
       "max     6.366240e+05  "
      ]
     },
     "execution_count": 22,
     "metadata": {},
     "output_type": "execute_result"
    }
   ],
   "source": [
    "df2_invoice_train.describe()"
   ]
  },
  {
   "cell_type": "markdown",
   "id": "0d66a563",
   "metadata": {},
   "source": [
    "## 2.4 Conclusions "
   ]
  },
  {
   "cell_type": "markdown",
   "id": "9b99040b",
   "metadata": {},
   "source": [
    "- Alterar o tipo de dado dos atributos 'creation_date' do dataframe de clientes, e os atributos 'reading_remarque',  'invoice_date' e 'counter_type' do dataframe invoices;\n",
    "- Não existem dados ausentes;\n",
    "- Como esperado, o target para fraudes é bastante subrepresentado (desbalanceamento);\n",
    "- 'counter_statue', 'counter_remarquee' e e 'counter_coefficient' precisam ser tratados, pois tem ums distribuição de valores inadequada;\n",
    "- Existem muito mais invoices de eletricidade que gás no dataset;\n",
    "- 'consommation_level_x' tem distribuição com bastante outliers, indicando uma variabilidade alta nos consumos;\n"
   ]
  },
  {
   "cell_type": "markdown",
   "id": "973ecc2f",
   "metadata": {},
   "source": [
    "# 3. Feature Engineering"
   ]
  },
  {
   "cell_type": "code",
   "execution_count": 53,
   "id": "1aa32119",
   "metadata": {},
   "outputs": [],
   "source": [
    "df3_client_train = df2_client_train.copy()\n",
    "df3_invoice_train = df2_invoice_train.copy()"
   ]
  },
  {
   "cell_type": "markdown",
   "id": "442a7a95",
   "metadata": {},
   "source": [
    "## 3.1 Changing Types"
   ]
  },
  {
   "cell_type": "markdown",
   "id": "2b835a81",
   "metadata": {},
   "source": [
    "### 3.1.1 Client "
   ]
  },
  {
   "cell_type": "code",
   "execution_count": 54,
   "id": "02c003e0",
   "metadata": {},
   "outputs": [
    {
     "data": {
      "text/plain": [
       "disrict            int64\n",
       "client_id         object\n",
       "client_catg        int64\n",
       "region             int64\n",
       "creation_date     object\n",
       "target           float64\n",
       "dtype: object"
      ]
     },
     "execution_count": 54,
     "metadata": {},
     "output_type": "execute_result"
    }
   ],
   "source": [
    "df3_client_train.dtypes"
   ]
  },
  {
   "cell_type": "code",
   "execution_count": 55,
   "id": "63d955ce",
   "metadata": {},
   "outputs": [],
   "source": [
    "df3_client_train['creation_date'] = pd.to_datetime(df3_client_train.creation_date, infer_datetime_format=True)\n",
    "df3_client_train['disrict'] = df3_client_train.disrict.astype('category')\n",
    "df3_client_train['client_catg'] = df3_client_train.client_catg.astype('category')\n",
    "df3_client_train['region'] = df3_client_train.region.astype('category')\n",
    "df3_client_train['target'] = df3_client_train.target.astype('int64')"
   ]
  },
  {
   "cell_type": "code",
   "execution_count": 56,
   "id": "3f07520d",
   "metadata": {},
   "outputs": [
    {
     "data": {
      "text/html": [
       "<div>\n",
       "<style scoped>\n",
       "    .dataframe tbody tr th:only-of-type {\n",
       "        vertical-align: middle;\n",
       "    }\n",
       "\n",
       "    .dataframe tbody tr th {\n",
       "        vertical-align: top;\n",
       "    }\n",
       "\n",
       "    .dataframe thead th {\n",
       "        text-align: right;\n",
       "    }\n",
       "</style>\n",
       "<table border=\"1\" class=\"dataframe\">\n",
       "  <thead>\n",
       "    <tr style=\"text-align: right;\">\n",
       "      <th></th>\n",
       "      <th>disrict</th>\n",
       "      <th>client_id</th>\n",
       "      <th>client_catg</th>\n",
       "      <th>region</th>\n",
       "      <th>creation_date</th>\n",
       "      <th>target</th>\n",
       "    </tr>\n",
       "  </thead>\n",
       "  <tbody>\n",
       "    <tr>\n",
       "      <th>0</th>\n",
       "      <td>60</td>\n",
       "      <td>train_Client_0</td>\n",
       "      <td>11</td>\n",
       "      <td>101</td>\n",
       "      <td>1994-12-31</td>\n",
       "      <td>0</td>\n",
       "    </tr>\n",
       "    <tr>\n",
       "      <th>1</th>\n",
       "      <td>69</td>\n",
       "      <td>train_Client_1</td>\n",
       "      <td>11</td>\n",
       "      <td>107</td>\n",
       "      <td>2002-05-29</td>\n",
       "      <td>0</td>\n",
       "    </tr>\n",
       "    <tr>\n",
       "      <th>2</th>\n",
       "      <td>62</td>\n",
       "      <td>train_Client_10</td>\n",
       "      <td>11</td>\n",
       "      <td>301</td>\n",
       "      <td>1986-03-13</td>\n",
       "      <td>0</td>\n",
       "    </tr>\n",
       "    <tr>\n",
       "      <th>3</th>\n",
       "      <td>69</td>\n",
       "      <td>train_Client_100</td>\n",
       "      <td>11</td>\n",
       "      <td>105</td>\n",
       "      <td>1996-07-11</td>\n",
       "      <td>0</td>\n",
       "    </tr>\n",
       "    <tr>\n",
       "      <th>4</th>\n",
       "      <td>62</td>\n",
       "      <td>train_Client_1000</td>\n",
       "      <td>11</td>\n",
       "      <td>303</td>\n",
       "      <td>2014-10-14</td>\n",
       "      <td>0</td>\n",
       "    </tr>\n",
       "  </tbody>\n",
       "</table>\n",
       "</div>"
      ],
      "text/plain": [
       "  disrict          client_id client_catg region creation_date  target\n",
       "0      60     train_Client_0          11    101    1994-12-31       0\n",
       "1      69     train_Client_1          11    107    2002-05-29       0\n",
       "2      62    train_Client_10          11    301    1986-03-13       0\n",
       "3      69   train_Client_100          11    105    1996-07-11       0\n",
       "4      62  train_Client_1000          11    303    2014-10-14       0"
      ]
     },
     "execution_count": 56,
     "metadata": {},
     "output_type": "execute_result"
    }
   ],
   "source": [
    "df3_client_train.head()"
   ]
  },
  {
   "cell_type": "markdown",
   "id": "fa4969ed",
   "metadata": {},
   "source": [
    "### 3.1.2 Invoice "
   ]
  },
  {
   "cell_type": "code",
   "execution_count": 57,
   "id": "bf01695d",
   "metadata": {},
   "outputs": [
    {
     "data": {
      "text/plain": [
       "client_id               object\n",
       "invoice_date            object\n",
       "tarif_type               int64\n",
       "counter_number           int64\n",
       "counter_statue          object\n",
       "counter_code             int64\n",
       "reading_remarque         int64\n",
       "counter_coefficient      int64\n",
       "consommation_level_1     int64\n",
       "consommation_level_2     int64\n",
       "consommation_level_3     int64\n",
       "consommation_level_4     int64\n",
       "old_index                int64\n",
       "new_index                int64\n",
       "months_number            int64\n",
       "counter_type            object\n",
       "dtype: object"
      ]
     },
     "execution_count": 57,
     "metadata": {},
     "output_type": "execute_result"
    }
   ],
   "source": [
    "df3_invoice_train.dtypes"
   ]
  },
  {
   "cell_type": "code",
   "execution_count": 58,
   "id": "8951ad16",
   "metadata": {},
   "outputs": [],
   "source": [
    "df3_invoice_train['invoice_date'] = pd.to_datetime(df3_invoice_train.invoice_date, infer_datetime_format=True)\n",
    "df3_invoice_train['tarif_type'] = df3_invoice_train.tarif_type.astype('category')\n",
    "df3_invoice_train['counter_statue'] = df3_invoice_train.counter_statue.astype('category')\n",
    "df3_invoice_train['reading_remarque'] = df3_invoice_train.reading_remarque.astype('category')\n",
    "df3_invoice_train['counter_type'] = df3_invoice_train.counter_type.astype('category')"
   ]
  },
  {
   "cell_type": "code",
   "execution_count": 59,
   "id": "bd660fef",
   "metadata": {},
   "outputs": [
    {
     "data": {
      "text/html": [
       "<div>\n",
       "<style scoped>\n",
       "    .dataframe tbody tr th:only-of-type {\n",
       "        vertical-align: middle;\n",
       "    }\n",
       "\n",
       "    .dataframe tbody tr th {\n",
       "        vertical-align: top;\n",
       "    }\n",
       "\n",
       "    .dataframe thead th {\n",
       "        text-align: right;\n",
       "    }\n",
       "</style>\n",
       "<table border=\"1\" class=\"dataframe\">\n",
       "  <thead>\n",
       "    <tr style=\"text-align: right;\">\n",
       "      <th></th>\n",
       "      <th>client_id</th>\n",
       "      <th>invoice_date</th>\n",
       "      <th>tarif_type</th>\n",
       "      <th>counter_number</th>\n",
       "      <th>counter_statue</th>\n",
       "      <th>counter_code</th>\n",
       "      <th>reading_remarque</th>\n",
       "      <th>counter_coefficient</th>\n",
       "      <th>consommation_level_1</th>\n",
       "      <th>consommation_level_2</th>\n",
       "      <th>consommation_level_3</th>\n",
       "      <th>consommation_level_4</th>\n",
       "      <th>old_index</th>\n",
       "      <th>new_index</th>\n",
       "      <th>months_number</th>\n",
       "      <th>counter_type</th>\n",
       "    </tr>\n",
       "  </thead>\n",
       "  <tbody>\n",
       "    <tr>\n",
       "      <th>0</th>\n",
       "      <td>train_Client_0</td>\n",
       "      <td>2014-03-24</td>\n",
       "      <td>11</td>\n",
       "      <td>1335667</td>\n",
       "      <td>0</td>\n",
       "      <td>203</td>\n",
       "      <td>8</td>\n",
       "      <td>1</td>\n",
       "      <td>82</td>\n",
       "      <td>0</td>\n",
       "      <td>0</td>\n",
       "      <td>0</td>\n",
       "      <td>14302</td>\n",
       "      <td>14384</td>\n",
       "      <td>4</td>\n",
       "      <td>ELEC</td>\n",
       "    </tr>\n",
       "    <tr>\n",
       "      <th>1</th>\n",
       "      <td>train_Client_0</td>\n",
       "      <td>2013-03-29</td>\n",
       "      <td>11</td>\n",
       "      <td>1335667</td>\n",
       "      <td>0</td>\n",
       "      <td>203</td>\n",
       "      <td>6</td>\n",
       "      <td>1</td>\n",
       "      <td>1200</td>\n",
       "      <td>184</td>\n",
       "      <td>0</td>\n",
       "      <td>0</td>\n",
       "      <td>12294</td>\n",
       "      <td>13678</td>\n",
       "      <td>4</td>\n",
       "      <td>ELEC</td>\n",
       "    </tr>\n",
       "    <tr>\n",
       "      <th>2</th>\n",
       "      <td>train_Client_0</td>\n",
       "      <td>2015-03-23</td>\n",
       "      <td>11</td>\n",
       "      <td>1335667</td>\n",
       "      <td>0</td>\n",
       "      <td>203</td>\n",
       "      <td>8</td>\n",
       "      <td>1</td>\n",
       "      <td>123</td>\n",
       "      <td>0</td>\n",
       "      <td>0</td>\n",
       "      <td>0</td>\n",
       "      <td>14624</td>\n",
       "      <td>14747</td>\n",
       "      <td>4</td>\n",
       "      <td>ELEC</td>\n",
       "    </tr>\n",
       "    <tr>\n",
       "      <th>3</th>\n",
       "      <td>train_Client_0</td>\n",
       "      <td>2015-07-13</td>\n",
       "      <td>11</td>\n",
       "      <td>1335667</td>\n",
       "      <td>0</td>\n",
       "      <td>207</td>\n",
       "      <td>8</td>\n",
       "      <td>1</td>\n",
       "      <td>102</td>\n",
       "      <td>0</td>\n",
       "      <td>0</td>\n",
       "      <td>0</td>\n",
       "      <td>14747</td>\n",
       "      <td>14849</td>\n",
       "      <td>4</td>\n",
       "      <td>ELEC</td>\n",
       "    </tr>\n",
       "    <tr>\n",
       "      <th>4</th>\n",
       "      <td>train_Client_0</td>\n",
       "      <td>2016-11-17</td>\n",
       "      <td>11</td>\n",
       "      <td>1335667</td>\n",
       "      <td>0</td>\n",
       "      <td>207</td>\n",
       "      <td>9</td>\n",
       "      <td>1</td>\n",
       "      <td>572</td>\n",
       "      <td>0</td>\n",
       "      <td>0</td>\n",
       "      <td>0</td>\n",
       "      <td>15066</td>\n",
       "      <td>15638</td>\n",
       "      <td>12</td>\n",
       "      <td>ELEC</td>\n",
       "    </tr>\n",
       "  </tbody>\n",
       "</table>\n",
       "</div>"
      ],
      "text/plain": [
       "        client_id invoice_date tarif_type  counter_number counter_statue  \\\n",
       "0  train_Client_0   2014-03-24         11         1335667              0   \n",
       "1  train_Client_0   2013-03-29         11         1335667              0   \n",
       "2  train_Client_0   2015-03-23         11         1335667              0   \n",
       "3  train_Client_0   2015-07-13         11         1335667              0   \n",
       "4  train_Client_0   2016-11-17         11         1335667              0   \n",
       "\n",
       "   counter_code reading_remarque  counter_coefficient  consommation_level_1  \\\n",
       "0           203                8                    1                    82   \n",
       "1           203                6                    1                  1200   \n",
       "2           203                8                    1                   123   \n",
       "3           207                8                    1                   102   \n",
       "4           207                9                    1                   572   \n",
       "\n",
       "   consommation_level_2  consommation_level_3  consommation_level_4  \\\n",
       "0                     0                     0                     0   \n",
       "1                   184                     0                     0   \n",
       "2                     0                     0                     0   \n",
       "3                     0                     0                     0   \n",
       "4                     0                     0                     0   \n",
       "\n",
       "   old_index  new_index  months_number counter_type  \n",
       "0      14302      14384              4         ELEC  \n",
       "1      12294      13678              4         ELEC  \n",
       "2      14624      14747              4         ELEC  \n",
       "3      14747      14849              4         ELEC  \n",
       "4      15066      15638             12         ELEC  "
      ]
     },
     "execution_count": 59,
     "metadata": {},
     "output_type": "execute_result"
    }
   ],
   "source": [
    "df3_invoice_train.head()"
   ]
  },
  {
   "cell_type": "markdown",
   "id": "3dadbf4a",
   "metadata": {},
   "source": [
    "## 3.2 Features Creation and Manipulation"
   ]
  },
  {
   "cell_type": "markdown",
   "id": "5afb104f",
   "metadata": {},
   "source": [
    "### 3.2.1 Client "
   ]
  },
  {
   "cell_type": "code",
   "execution_count": 60,
   "id": "54ba4a0f",
   "metadata": {},
   "outputs": [],
   "source": [
    "df3_client_train['year_creation'] = df3_client_train.creation_date.dt.year\n",
    "df3_client_train['month_creation'] = df3_client_train.creation_date.dt.month\n",
    "df3_client_train['age'] = (2020 - df3_client_train.year_creation) * 12 - df3_client_train.month_creation"
   ]
  },
  {
   "cell_type": "code",
   "execution_count": 62,
   "id": "b13202a5",
   "metadata": {},
   "outputs": [
    {
     "data": {
      "text/html": [
       "<div>\n",
       "<style scoped>\n",
       "    .dataframe tbody tr th:only-of-type {\n",
       "        vertical-align: middle;\n",
       "    }\n",
       "\n",
       "    .dataframe tbody tr th {\n",
       "        vertical-align: top;\n",
       "    }\n",
       "\n",
       "    .dataframe thead th {\n",
       "        text-align: right;\n",
       "    }\n",
       "</style>\n",
       "<table border=\"1\" class=\"dataframe\">\n",
       "  <thead>\n",
       "    <tr style=\"text-align: right;\">\n",
       "      <th></th>\n",
       "      <th>disrict</th>\n",
       "      <th>client_id</th>\n",
       "      <th>client_catg</th>\n",
       "      <th>region</th>\n",
       "      <th>creation_date</th>\n",
       "      <th>year_creation</th>\n",
       "      <th>month_creation</th>\n",
       "      <th>age</th>\n",
       "      <th>target</th>\n",
       "    </tr>\n",
       "  </thead>\n",
       "  <tbody>\n",
       "    <tr>\n",
       "      <th>0</th>\n",
       "      <td>60</td>\n",
       "      <td>train_Client_0</td>\n",
       "      <td>11</td>\n",
       "      <td>101</td>\n",
       "      <td>1994-12-31</td>\n",
       "      <td>1994</td>\n",
       "      <td>12</td>\n",
       "      <td>300</td>\n",
       "      <td>0</td>\n",
       "    </tr>\n",
       "    <tr>\n",
       "      <th>1</th>\n",
       "      <td>69</td>\n",
       "      <td>train_Client_1</td>\n",
       "      <td>11</td>\n",
       "      <td>107</td>\n",
       "      <td>2002-05-29</td>\n",
       "      <td>2002</td>\n",
       "      <td>5</td>\n",
       "      <td>211</td>\n",
       "      <td>0</td>\n",
       "    </tr>\n",
       "    <tr>\n",
       "      <th>2</th>\n",
       "      <td>62</td>\n",
       "      <td>train_Client_10</td>\n",
       "      <td>11</td>\n",
       "      <td>301</td>\n",
       "      <td>1986-03-13</td>\n",
       "      <td>1986</td>\n",
       "      <td>3</td>\n",
       "      <td>405</td>\n",
       "      <td>0</td>\n",
       "    </tr>\n",
       "    <tr>\n",
       "      <th>3</th>\n",
       "      <td>69</td>\n",
       "      <td>train_Client_100</td>\n",
       "      <td>11</td>\n",
       "      <td>105</td>\n",
       "      <td>1996-07-11</td>\n",
       "      <td>1996</td>\n",
       "      <td>7</td>\n",
       "      <td>281</td>\n",
       "      <td>0</td>\n",
       "    </tr>\n",
       "    <tr>\n",
       "      <th>4</th>\n",
       "      <td>62</td>\n",
       "      <td>train_Client_1000</td>\n",
       "      <td>11</td>\n",
       "      <td>303</td>\n",
       "      <td>2014-10-14</td>\n",
       "      <td>2014</td>\n",
       "      <td>10</td>\n",
       "      <td>62</td>\n",
       "      <td>0</td>\n",
       "    </tr>\n",
       "  </tbody>\n",
       "</table>\n",
       "</div>"
      ],
      "text/plain": [
       "  disrict          client_id client_catg region creation_date  year_creation  \\\n",
       "0      60     train_Client_0          11    101    1994-12-31           1994   \n",
       "1      69     train_Client_1          11    107    2002-05-29           2002   \n",
       "2      62    train_Client_10          11    301    1986-03-13           1986   \n",
       "3      69   train_Client_100          11    105    1996-07-11           1996   \n",
       "4      62  train_Client_1000          11    303    2014-10-14           2014   \n",
       "\n",
       "   month_creation  age  target  \n",
       "0              12  300       0  \n",
       "1               5  211       0  \n",
       "2               3  405       0  \n",
       "3               7  281       0  \n",
       "4              10   62       0  "
      ]
     },
     "execution_count": 62,
     "metadata": {},
     "output_type": "execute_result"
    }
   ],
   "source": [
    "df3_client_train.insert(len(df3_client_train.columns)-1, 'target', df3_client_train.pop('target'))\n",
    "df3_client_train.head()"
   ]
  },
  {
   "cell_type": "markdown",
   "id": "29a77b4a",
   "metadata": {},
   "source": [
    "### 3.2.2 Invoice "
   ]
  },
  {
   "cell_type": "code",
   "execution_count": 66,
   "id": "dbd5341c",
   "metadata": {},
   "outputs": [],
   "source": [
    "df3_invoice_train['delta_index'] = df3_invoice_train.new_index - df3_invoice_train.old_index\n",
    "df3_invoice_train['counter_type'] = df3_invoice_train.counter_type.map({'ELEC': 1, 'GAZ': 0})\n",
    "df3_invoice_train['invoice_year'] = df3_invoice_train['invoice_date'].dt.year\n",
    "df3_invoice_train['invoice_month'] = df3_invoice_train['invoice_date'].dt.month\n",
    "df3_invoice_train['delta_dates'] = df3_invoice_train.sort_values(['client_id', 'invoice_date']).groupby('client_id')['invoice_date'].diff().dt.days.reset_index(drop=True)"
   ]
  },
  {
   "cell_type": "code",
   "execution_count": 68,
   "id": "6ac23f1a",
   "metadata": {},
   "outputs": [
    {
     "data": {
      "text/plain": [
       "['client_id',\n",
       " 'invoice_date',\n",
       " 'tarif_type',\n",
       " 'counter_number',\n",
       " 'counter_statue',\n",
       " 'counter_code',\n",
       " 'reading_remarque',\n",
       " 'counter_coefficient',\n",
       " 'consommation_level_1',\n",
       " 'consommation_level_2',\n",
       " 'consommation_level_3',\n",
       " 'consommation_level_4',\n",
       " 'old_index',\n",
       " 'new_index',\n",
       " 'months_number',\n",
       " 'counter_type',\n",
       " 'delta_index',\n",
       " 'invoice_year',\n",
       " 'invoice_month',\n",
       " 'delta_dates']"
      ]
     },
     "execution_count": 68,
     "metadata": {},
     "output_type": "execute_result"
    }
   ],
   "source": [
    "df3_invoice_train.columns.tolist()"
   ]
  },
  {
   "cell_type": "code",
   "execution_count": 73,
   "id": "45bb90b9",
   "metadata": {},
   "outputs": [],
   "source": [
    "features_to_agg = ['consommation_level_1', 'consommation_level_2', 'consommation_level_3', 'consommation_level_4', 'months_number', 'delta_index', 'delta_dates']\n",
    "stats_features = df3_invoice_train.groupby('client_id')[features_to_agg].agg(['mean','std','min','max'])\n",
    "stats_features.columns = ['_'.join(col).strip() for col in stats_features.columns.values]"
   ]
  },
  {
   "cell_type": "markdown",
   "id": "da87f6bc",
   "metadata": {},
   "source": [
    "## 3.5 Merging DataFrames"
   ]
  },
  {
   "cell_type": "code",
   "execution_count": 78,
   "id": "1144a4a4",
   "metadata": {},
   "outputs": [
    {
     "data": {
      "text/html": [
       "<div>\n",
       "<style scoped>\n",
       "    .dataframe tbody tr th:only-of-type {\n",
       "        vertical-align: middle;\n",
       "    }\n",
       "\n",
       "    .dataframe tbody tr th {\n",
       "        vertical-align: top;\n",
       "    }\n",
       "\n",
       "    .dataframe thead th {\n",
       "        text-align: right;\n",
       "    }\n",
       "</style>\n",
       "<table border=\"1\" class=\"dataframe\">\n",
       "  <thead>\n",
       "    <tr style=\"text-align: right;\">\n",
       "      <th></th>\n",
       "      <th>disrict</th>\n",
       "      <th>client_id</th>\n",
       "      <th>client_catg</th>\n",
       "      <th>region</th>\n",
       "      <th>creation_date</th>\n",
       "      <th>year_creation</th>\n",
       "      <th>month_creation</th>\n",
       "      <th>age</th>\n",
       "      <th>consommation_level_1_mean</th>\n",
       "      <th>consommation_level_1_std</th>\n",
       "      <th>...</th>\n",
       "      <th>months_number_max</th>\n",
       "      <th>delta_index_mean</th>\n",
       "      <th>delta_index_std</th>\n",
       "      <th>delta_index_min</th>\n",
       "      <th>delta_index_max</th>\n",
       "      <th>delta_dates_mean</th>\n",
       "      <th>delta_dates_std</th>\n",
       "      <th>delta_dates_min</th>\n",
       "      <th>delta_dates_max</th>\n",
       "      <th>target</th>\n",
       "    </tr>\n",
       "  </thead>\n",
       "  <tbody>\n",
       "    <tr>\n",
       "      <th>0</th>\n",
       "      <td>60</td>\n",
       "      <td>train_Client_0</td>\n",
       "      <td>11</td>\n",
       "      <td>101</td>\n",
       "      <td>1994-12-31</td>\n",
       "      <td>1994</td>\n",
       "      <td>12</td>\n",
       "      <td>300</td>\n",
       "      <td>352.400000</td>\n",
       "      <td>310.343472</td>\n",
       "      <td>...</td>\n",
       "      <td>12</td>\n",
       "      <td>362.971429</td>\n",
       "      <td>341.553930</td>\n",
       "      <td>38</td>\n",
       "      <td>1386</td>\n",
       "      <td>144.147059</td>\n",
       "      <td>87.601070</td>\n",
       "      <td>40.0</td>\n",
       "      <td>508.0</td>\n",
       "      <td>0</td>\n",
       "    </tr>\n",
       "    <tr>\n",
       "      <th>1</th>\n",
       "      <td>69</td>\n",
       "      <td>train_Client_1</td>\n",
       "      <td>11</td>\n",
       "      <td>107</td>\n",
       "      <td>2002-05-29</td>\n",
       "      <td>2002</td>\n",
       "      <td>5</td>\n",
       "      <td>211</td>\n",
       "      <td>557.540541</td>\n",
       "      <td>197.935960</td>\n",
       "      <td>...</td>\n",
       "      <td>8</td>\n",
       "      <td>557.540541</td>\n",
       "      <td>197.935960</td>\n",
       "      <td>190</td>\n",
       "      <td>1207</td>\n",
       "      <td>136.472222</td>\n",
       "      <td>92.492312</td>\n",
       "      <td>4.0</td>\n",
       "      <td>372.0</td>\n",
       "      <td>0</td>\n",
       "    </tr>\n",
       "    <tr>\n",
       "      <th>2</th>\n",
       "      <td>62</td>\n",
       "      <td>train_Client_10</td>\n",
       "      <td>11</td>\n",
       "      <td>301</td>\n",
       "      <td>1986-03-13</td>\n",
       "      <td>1986</td>\n",
       "      <td>3</td>\n",
       "      <td>405</td>\n",
       "      <td>798.611111</td>\n",
       "      <td>513.841374</td>\n",
       "      <td>...</td>\n",
       "      <td>12</td>\n",
       "      <td>836.500000</td>\n",
       "      <td>646.808386</td>\n",
       "      <td>188</td>\n",
       "      <td>3082</td>\n",
       "      <td>289.470588</td>\n",
       "      <td>250.701794</td>\n",
       "      <td>20.0</td>\n",
       "      <td>738.0</td>\n",
       "      <td>0</td>\n",
       "    </tr>\n",
       "    <tr>\n",
       "      <th>3</th>\n",
       "      <td>69</td>\n",
       "      <td>train_Client_100</td>\n",
       "      <td>11</td>\n",
       "      <td>105</td>\n",
       "      <td>1996-07-11</td>\n",
       "      <td>1996</td>\n",
       "      <td>7</td>\n",
       "      <td>281</td>\n",
       "      <td>1.200000</td>\n",
       "      <td>3.607011</td>\n",
       "      <td>...</td>\n",
       "      <td>6</td>\n",
       "      <td>1.200000</td>\n",
       "      <td>3.607011</td>\n",
       "      <td>0</td>\n",
       "      <td>15</td>\n",
       "      <td>140.210526</td>\n",
       "      <td>95.569974</td>\n",
       "      <td>4.0</td>\n",
       "      <td>442.0</td>\n",
       "      <td>0</td>\n",
       "    </tr>\n",
       "    <tr>\n",
       "      <th>4</th>\n",
       "      <td>62</td>\n",
       "      <td>train_Client_1000</td>\n",
       "      <td>11</td>\n",
       "      <td>303</td>\n",
       "      <td>2014-10-14</td>\n",
       "      <td>2014</td>\n",
       "      <td>10</td>\n",
       "      <td>62</td>\n",
       "      <td>663.714286</td>\n",
       "      <td>224.831365</td>\n",
       "      <td>...</td>\n",
       "      <td>4</td>\n",
       "      <td>922.642857</td>\n",
       "      <td>633.485669</td>\n",
       "      <td>124</td>\n",
       "      <td>2382</td>\n",
       "      <td>121.923077</td>\n",
       "      <td>80.057752</td>\n",
       "      <td>4.0</td>\n",
       "      <td>301.0</td>\n",
       "      <td>0</td>\n",
       "    </tr>\n",
       "  </tbody>\n",
       "</table>\n",
       "<p>5 rows × 37 columns</p>\n",
       "</div>"
      ],
      "text/plain": [
       "  disrict          client_id client_catg region creation_date  year_creation  \\\n",
       "0      60     train_Client_0          11    101    1994-12-31           1994   \n",
       "1      69     train_Client_1          11    107    2002-05-29           2002   \n",
       "2      62    train_Client_10          11    301    1986-03-13           1986   \n",
       "3      69   train_Client_100          11    105    1996-07-11           1996   \n",
       "4      62  train_Client_1000          11    303    2014-10-14           2014   \n",
       "\n",
       "   month_creation  age  consommation_level_1_mean  consommation_level_1_std  \\\n",
       "0              12  300                 352.400000                310.343472   \n",
       "1               5  211                 557.540541                197.935960   \n",
       "2               3  405                 798.611111                513.841374   \n",
       "3               7  281                   1.200000                  3.607011   \n",
       "4              10   62                 663.714286                224.831365   \n",
       "\n",
       "   ...  months_number_max  delta_index_mean  delta_index_std  delta_index_min  \\\n",
       "0  ...                 12        362.971429       341.553930               38   \n",
       "1  ...                  8        557.540541       197.935960              190   \n",
       "2  ...                 12        836.500000       646.808386              188   \n",
       "3  ...                  6          1.200000         3.607011                0   \n",
       "4  ...                  4        922.642857       633.485669              124   \n",
       "\n",
       "   delta_index_max  delta_dates_mean  delta_dates_std  delta_dates_min  \\\n",
       "0             1386        144.147059        87.601070             40.0   \n",
       "1             1207        136.472222        92.492312              4.0   \n",
       "2             3082        289.470588       250.701794             20.0   \n",
       "3               15        140.210526        95.569974              4.0   \n",
       "4             2382        121.923077        80.057752              4.0   \n",
       "\n",
       "   delta_dates_max  target  \n",
       "0            508.0       0  \n",
       "1            372.0       0  \n",
       "2            738.0       0  \n",
       "3            442.0       0  \n",
       "4            301.0       0  \n",
       "\n",
       "[5 rows x 37 columns]"
      ]
     },
     "execution_count": 78,
     "metadata": {},
     "output_type": "execute_result"
    }
   ],
   "source": [
    "df3 = pd.merge(df3_client_train, stats_features, on='client_id', how='left')\n",
    "df3.insert(len(df3.columns)-1, 'target', df3.pop('target'))\n",
    "df3.head()"
   ]
  },
  {
   "cell_type": "markdown",
   "id": "4f85c8f6",
   "metadata": {},
   "source": [
    "# 4. Exploratory Data Analysis "
   ]
  },
  {
   "cell_type": "markdown",
   "id": "3316696b",
   "metadata": {},
   "source": [
    "# 5. Data Preparation "
   ]
  },
  {
   "cell_type": "markdown",
   "id": "e8194ff4",
   "metadata": {},
   "source": [
    "# 6. Features Selection "
   ]
  },
  {
   "cell_type": "markdown",
   "id": "aba6309c",
   "metadata": {},
   "source": [
    "# 7. Machine Learning Model "
   ]
  },
  {
   "cell_type": "markdown",
   "id": "e814cd63",
   "metadata": {},
   "source": [
    "# 8. Fine Tuning "
   ]
  },
  {
   "cell_type": "markdown",
   "id": "baa0e990",
   "metadata": {},
   "source": [
    "# 9. Cross Validation "
   ]
  },
  {
   "cell_type": "code",
   "execution_count": null,
   "id": "45ac0e37",
   "metadata": {},
   "outputs": [],
   "source": []
  }
 ],
 "metadata": {
  "kernelspec": {
   "display_name": "Python 3 (ipykernel)",
   "language": "python",
   "name": "python3"
  },
  "language_info": {
   "codemirror_mode": {
    "name": "ipython",
    "version": 3
   },
   "file_extension": ".py",
   "mimetype": "text/x-python",
   "name": "python",
   "nbconvert_exporter": "python",
   "pygments_lexer": "ipython3",
   "version": "3.9.13"
  }
 },
 "nbformat": 4,
 "nbformat_minor": 5
}
