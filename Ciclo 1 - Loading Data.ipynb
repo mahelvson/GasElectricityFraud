{
 "cells": [
  {
   "cell_type": "markdown",
   "id": "3f25c6d3",
   "metadata": {},
   "source": [
    "# 0. Imports "
   ]
  },
  {
   "cell_type": "code",
   "execution_count": 23,
   "id": "33202f43",
   "metadata": {},
   "outputs": [],
   "source": [
    "import pandas as pd\n",
    "import matplotlib.pyplot as plt\n",
    "import seaborn as sns\n",
    "import sklearn as sk"
   ]
  },
  {
   "cell_type": "markdown",
   "id": "01982709",
   "metadata": {},
   "source": [
    "# 1. Loading Data "
   ]
  },
  {
   "cell_type": "code",
   "execution_count": 42,
   "id": "5703447e",
   "metadata": {},
   "outputs": [],
   "source": [
    "df_client_train = pd.read_csv('dataset/client_train.csv', low_memory=False)\n",
    "df_client_test = pd.read_csv('dataset/client_test.csv', low_memory=False)\n",
    "df_invoice_train = pd.read_csv('dataset/invoice_train.csv', low_memory=False)\n",
    "df_invoice_test = pd.read_csv('dataset/invoice_test.csv', low_memory=False)"
   ]
  },
  {
   "cell_type": "markdown",
   "id": "18dfb256",
   "metadata": {},
   "source": [
    "# 2. Data Description\n"
   ]
  },
  {
   "cell_type": "markdown",
   "id": "ee1b6a01",
   "metadata": {},
   "source": [
    "## 2.1 Data Dimensions "
   ]
  },
  {
   "cell_type": "code",
   "execution_count": 43,
   "id": "36ea63bd",
   "metadata": {},
   "outputs": [
    {
     "name": "stdout",
     "output_type": "stream",
     "text": [
      "df_client_train (lines = 135493, cols = 6)\n"
     ]
    }
   ],
   "source": [
    "print(f'df_client_train (lines = {df_client_train.shape[0]}, cols = {df_client_train.shape[1]})')"
   ]
  },
  {
   "cell_type": "code",
   "execution_count": 44,
   "id": "33b60ad5",
   "metadata": {},
   "outputs": [
    {
     "name": "stdout",
     "output_type": "stream",
     "text": [
      "df_client_test (lines = 58069, cols = 5)\n"
     ]
    }
   ],
   "source": [
    "print(f'df_client_test (lines = {df_client_test.shape[0]}, cols = {df_client_test.shape[1]})')"
   ]
  },
  {
   "cell_type": "code",
   "execution_count": 45,
   "id": "a3304407",
   "metadata": {},
   "outputs": [
    {
     "name": "stdout",
     "output_type": "stream",
     "text": [
      "df_invoice_train (lines = 4476749, cols = 16)\n"
     ]
    }
   ],
   "source": [
    "print(f'df_invoice_train (lines = {df_invoice_train.shape[0]}, cols = {df_invoice_train.shape[1]})')"
   ]
  },
  {
   "cell_type": "code",
   "execution_count": 46,
   "id": "b0c8802c",
   "metadata": {},
   "outputs": [
    {
     "name": "stdout",
     "output_type": "stream",
     "text": [
      "df_invoice_test (lines = 1939730, cols = 16)\n"
     ]
    }
   ],
   "source": [
    "print(f'df_invoice_test (lines = {df_invoice_test.shape[0]}, cols = {df_invoice_test.shape[1]})')"
   ]
  },
  {
   "cell_type": "markdown",
   "id": "16beadfb",
   "metadata": {},
   "source": [
    "## 2.2 Data Types "
   ]
  },
  {
   "cell_type": "code",
   "execution_count": 47,
   "id": "89f92ef3",
   "metadata": {},
   "outputs": [
    {
     "name": "stdout",
     "output_type": "stream",
     "text": [
      "df_client_train\n",
      "---------------\n"
     ]
    },
    {
     "data": {
      "text/plain": [
       "disrict            int64\n",
       "client_id         object\n",
       "client_catg        int64\n",
       "region             int64\n",
       "creation_date     object\n",
       "target           float64\n",
       "dtype: object"
      ]
     },
     "execution_count": 47,
     "metadata": {},
     "output_type": "execute_result"
    }
   ],
   "source": [
    "print('df_client_train')\n",
    "print('---------------')\n",
    "df_client_train.dtypes"
   ]
  },
  {
   "cell_type": "code",
   "execution_count": 48,
   "id": "80806e03",
   "metadata": {},
   "outputs": [
    {
     "name": "stdout",
     "output_type": "stream",
     "text": [
      "df_client_test\n",
      "---------------\n"
     ]
    },
    {
     "data": {
      "text/plain": [
       "disrict           int64\n",
       "client_id        object\n",
       "client_catg       int64\n",
       "region            int64\n",
       "creation_date    object\n",
       "dtype: object"
      ]
     },
     "execution_count": 48,
     "metadata": {},
     "output_type": "execute_result"
    }
   ],
   "source": [
    "print('df_client_test')\n",
    "print('---------------')\n",
    "df_client_test.dtypes"
   ]
  },
  {
   "cell_type": "code",
   "execution_count": 49,
   "id": "4b1521e5",
   "metadata": {},
   "outputs": [
    {
     "name": "stdout",
     "output_type": "stream",
     "text": [
      "df_invoice_train\n",
      "---------------\n"
     ]
    },
    {
     "data": {
      "text/plain": [
       "client_id               object\n",
       "invoice_date            object\n",
       "tarif_type               int64\n",
       "counter_number           int64\n",
       "counter_statue          object\n",
       "counter_code             int64\n",
       "reading_remarque         int64\n",
       "counter_coefficient      int64\n",
       "consommation_level_1     int64\n",
       "consommation_level_2     int64\n",
       "consommation_level_3     int64\n",
       "consommation_level_4     int64\n",
       "old_index                int64\n",
       "new_index                int64\n",
       "months_number            int64\n",
       "counter_type            object\n",
       "dtype: object"
      ]
     },
     "execution_count": 49,
     "metadata": {},
     "output_type": "execute_result"
    }
   ],
   "source": [
    "print('df_invoice_train')\n",
    "print('---------------')\n",
    "df_invoice_train.dtypes"
   ]
  },
  {
   "cell_type": "code",
   "execution_count": 50,
   "id": "6ec964eb",
   "metadata": {},
   "outputs": [
    {
     "name": "stdout",
     "output_type": "stream",
     "text": [
      "df_invoice_test\n",
      "---------------\n"
     ]
    },
    {
     "data": {
      "text/plain": [
       "client_id               object\n",
       "invoice_date            object\n",
       "tarif_type               int64\n",
       "counter_number           int64\n",
       "counter_statue           int64\n",
       "counter_code             int64\n",
       "reading_remarque         int64\n",
       "counter_coefficient      int64\n",
       "consommation_level_1     int64\n",
       "consommation_level_2     int64\n",
       "consommation_level_3     int64\n",
       "consommation_level_4     int64\n",
       "old_index                int64\n",
       "new_index                int64\n",
       "months_number            int64\n",
       "counter_type            object\n",
       "dtype: object"
      ]
     },
     "execution_count": 50,
     "metadata": {},
     "output_type": "execute_result"
    }
   ],
   "source": [
    "print('df_invoice_test')\n",
    "print('---------------')\n",
    "df_invoice_test.dtypes"
   ]
  },
  {
   "cell_type": "markdown",
   "id": "54fb05c6",
   "metadata": {},
   "source": [
    "## 2.3 Checkin NA "
   ]
  },
  {
   "cell_type": "code",
   "execution_count": 51,
   "id": "260b5232",
   "metadata": {},
   "outputs": [
    {
     "data": {
      "text/plain": [
       "disrict          0\n",
       "client_id        0\n",
       "client_catg      0\n",
       "region           0\n",
       "creation_date    0\n",
       "target           0\n",
       "dtype: int64"
      ]
     },
     "execution_count": 51,
     "metadata": {},
     "output_type": "execute_result"
    }
   ],
   "source": [
    "df_client_train.isna().sum()"
   ]
  },
  {
   "cell_type": "code",
   "execution_count": 52,
   "id": "498e44f8",
   "metadata": {},
   "outputs": [
    {
     "data": {
      "text/plain": [
       "disrict          0\n",
       "client_id        0\n",
       "client_catg      0\n",
       "region           0\n",
       "creation_date    0\n",
       "dtype: int64"
      ]
     },
     "execution_count": 52,
     "metadata": {},
     "output_type": "execute_result"
    }
   ],
   "source": [
    "df_client_test.isna().sum()"
   ]
  },
  {
   "cell_type": "code",
   "execution_count": 53,
   "id": "e3df75ed",
   "metadata": {},
   "outputs": [
    {
     "data": {
      "text/plain": [
       "client_id               0\n",
       "invoice_date            0\n",
       "tarif_type              0\n",
       "counter_number          0\n",
       "counter_statue          0\n",
       "counter_code            0\n",
       "reading_remarque        0\n",
       "counter_coefficient     0\n",
       "consommation_level_1    0\n",
       "consommation_level_2    0\n",
       "consommation_level_3    0\n",
       "consommation_level_4    0\n",
       "old_index               0\n",
       "new_index               0\n",
       "months_number           0\n",
       "counter_type            0\n",
       "dtype: int64"
      ]
     },
     "execution_count": 53,
     "metadata": {},
     "output_type": "execute_result"
    }
   ],
   "source": [
    "df_invoice_train.isna().sum()"
   ]
  },
  {
   "cell_type": "code",
   "execution_count": 54,
   "id": "ce9dfe0a",
   "metadata": {},
   "outputs": [
    {
     "data": {
      "text/plain": [
       "client_id               0\n",
       "invoice_date            0\n",
       "tarif_type              0\n",
       "counter_number          0\n",
       "counter_statue          0\n",
       "counter_code            0\n",
       "reading_remarque        0\n",
       "counter_coefficient     0\n",
       "consommation_level_1    0\n",
       "consommation_level_2    0\n",
       "consommation_level_3    0\n",
       "consommation_level_4    0\n",
       "old_index               0\n",
       "new_index               0\n",
       "months_number           0\n",
       "counter_type            0\n",
       "dtype: int64"
      ]
     },
     "execution_count": 54,
     "metadata": {},
     "output_type": "execute_result"
    }
   ],
   "source": [
    "df_invoice_test.isna().sum()"
   ]
  },
  {
   "cell_type": "markdown",
   "id": "b2a34f2c",
   "metadata": {},
   "source": [
    "## 2.4 Changing Types "
   ]
  },
  {
   "cell_type": "code",
   "execution_count": 57,
   "id": "7a282abe",
   "metadata": {},
   "outputs": [],
   "source": [
    "# From object to datetime\n",
    "df_client_train.creation_date = pd.to_datetime(df_client_train.creation_date, format='dd/mm/yyyy')\n",
    "df_client_test.creation_date = pd.to_datetime(df_client_test.creation_date,format='dd/mm/yyyy')"
   ]
  },
  {
   "cell_type": "code",
   "execution_count": 58,
   "id": "797f8161",
   "metadata": {},
   "outputs": [
    {
     "data": {
      "text/plain": [
       "disrict                   int64\n",
       "client_id                object\n",
       "client_catg               int64\n",
       "region                    int64\n",
       "creation_date    datetime64[ns]\n",
       "target                  float64\n",
       "dtype: object"
      ]
     },
     "execution_count": 58,
     "metadata": {},
     "output_type": "execute_result"
    }
   ],
   "source": [
    "df_client_train.dtypes"
   ]
  },
  {
   "cell_type": "code",
   "execution_count": 62,
   "id": "648f50d8",
   "metadata": {},
   "outputs": [],
   "source": [
    "# From object to datetime\n",
    "df_invoice_train.invoice_date = pd.to_datetime(df_invoice_train.invoice_date)\n",
    "df_invoice_test.invoice_date = pd.to_datetime(df_invoice_test.invoice_date)"
   ]
  },
  {
   "cell_type": "code",
   "execution_count": 63,
   "id": "b17a3ba3",
   "metadata": {},
   "outputs": [
    {
     "data": {
      "text/plain": [
       "client_id                       object\n",
       "invoice_date            datetime64[ns]\n",
       "tarif_type                       int64\n",
       "counter_number                   int64\n",
       "counter_statue                  object\n",
       "counter_code                     int64\n",
       "reading_remarque                 int64\n",
       "counter_coefficient              int64\n",
       "consommation_level_1             int64\n",
       "consommation_level_2             int64\n",
       "consommation_level_3             int64\n",
       "consommation_level_4             int64\n",
       "old_index                        int64\n",
       "new_index                        int64\n",
       "months_number                    int64\n",
       "counter_type                    object\n",
       "dtype: object"
      ]
     },
     "execution_count": 63,
     "metadata": {},
     "output_type": "execute_result"
    }
   ],
   "source": [
    "df_invoice_train.dtypes"
   ]
  },
  {
   "cell_type": "markdown",
   "id": "b233943f",
   "metadata": {},
   "source": [
    "## 2.5 Basic Descriptive Statistics "
   ]
  },
  {
   "cell_type": "markdown",
   "id": "d4385914",
   "metadata": {},
   "source": [
    "### 2.5.1 Clients "
   ]
  },
  {
   "cell_type": "code",
   "execution_count": 71,
   "id": "39c0a044",
   "metadata": {},
   "outputs": [
    {
     "data": {
      "text/plain": [
       "['disrict', 'client_id', 'client_catg', 'region', 'creation_date', 'target']"
      ]
     },
     "execution_count": 71,
     "metadata": {},
     "output_type": "execute_result"
    }
   ],
   "source": [
    "df_client_train.columns.tolist()"
   ]
  },
  {
   "cell_type": "code",
   "execution_count": 79,
   "id": "baf0124d",
   "metadata": {},
   "outputs": [
    {
     "data": {
      "text/plain": [
       "target\n",
       "0.0    0.944159\n",
       "1.0    0.055841\n",
       "dtype: float64"
      ]
     },
     "execution_count": 79,
     "metadata": {},
     "output_type": "execute_result"
    }
   ],
   "source": [
    "df_client_train.value_counts(subset='target', normalize=True)"
   ]
  },
  {
   "cell_type": "code",
   "execution_count": 84,
   "id": "2b22ec29",
   "metadata": {},
   "outputs": [
    {
     "data": {
      "image/png": "[encoded data removed]",
      "text/plain": [
       "<Figure size 400x300 with 1 Axes>"
      ]
     },
     "metadata": {},
     "output_type": "display_data"
    }
   ],
   "source": [
    "plt.figure(figsize=(4,3))\n",
    "sns.countplot(data=df_client_train, x='target');"
   ]
  },
  {
   "cell_type": "code",
   "execution_count": 87,
   "id": "02328694",
   "metadata": {},
   "outputs": [
    {
     "data": {
      "image/png": "[encoded data removed]",
      "text/plain": [
       "<Figure size 400x300 with 1 Axes>"
      ]
     },
     "metadata": {},
     "output_type": "display_data"
    }
   ],
   "source": [
    "plt.figure(figsize=(4,3))\n",
    "sns.countplot(data=df_client_train, x='client_catg');"
   ]
  },
  {
   "cell_type": "code",
   "execution_count": 89,
   "id": "832f170d",
   "metadata": {},
   "outputs": [
    {
     "data": {
      "image/png": "[encoded data removed]",
      "text/plain": [
       "<Figure size 400x300 with 1 Axes>"
      ]
     },
     "metadata": {},
     "output_type": "display_data"
    }
   ],
   "source": [
    "plt.figure(figsize=(4,3))\n",
    "sns.countplot(data=df_client_train, x='disrict');"
   ]
  },
  {
   "cell_type": "code",
   "execution_count": 86,
   "id": "b22ca779",
   "metadata": {},
   "outputs": [
    {
     "data": {
      "image/png": "[encoded data removed]",
      "text/plain": [
       "<Figure size 1400x300 with 1 Axes>"
      ]
     },
     "metadata": {},
     "output_type": "display_data"
    }
   ],
   "source": [
    "plt.figure(figsize=(14,3))\n",
    "sns.countplot(data=df_client_train, x='region');"
   ]
  },
  {
   "cell_type": "code",
   "execution_count": 70,
   "id": "b0969280",
   "metadata": {},
   "outputs": [
    {
     "data": {
      "text/html": [
       "<div>\n",
       "<style scoped>\n",
       "    .dataframe tbody tr th:only-of-type {\n",
       "        vertical-align: middle;\n",
       "    }\n",
       "\n",
       "    .dataframe tbody tr th {\n",
       "        vertical-align: top;\n",
       "    }\n",
       "\n",
       "    .dataframe thead th {\n",
       "        text-align: right;\n",
       "    }\n",
       "</style>\n",
       "<table border=\"1\" class=\"dataframe\">\n",
       "  <thead>\n",
       "    <tr style=\"text-align: right;\">\n",
       "      <th></th>\n",
       "      <th>disrict</th>\n",
       "      <th>client_catg</th>\n",
       "      <th>region</th>\n",
       "      <th>target</th>\n",
       "    </tr>\n",
       "  </thead>\n",
       "  <tbody>\n",
       "    <tr>\n",
       "      <th>count</th>\n",
       "      <td>135493.000000</td>\n",
       "      <td>135493.000000</td>\n",
       "      <td>135493.000000</td>\n",
       "      <td>135493.000000</td>\n",
       "    </tr>\n",
       "    <tr>\n",
       "      <th>mean</th>\n",
       "      <td>63.511222</td>\n",
       "      <td>11.512506</td>\n",
       "      <td>206.159809</td>\n",
       "      <td>0.055841</td>\n",
       "    </tr>\n",
       "    <tr>\n",
       "      <th>std</th>\n",
       "      <td>3.354400</td>\n",
       "      <td>4.423761</td>\n",
       "      <td>104.207044</td>\n",
       "      <td>0.229614</td>\n",
       "    </tr>\n",
       "    <tr>\n",
       "      <th>min</th>\n",
       "      <td>60.000000</td>\n",
       "      <td>11.000000</td>\n",
       "      <td>101.000000</td>\n",
       "      <td>0.000000</td>\n",
       "    </tr>\n",
       "    <tr>\n",
       "      <th>25%</th>\n",
       "      <td>62.000000</td>\n",
       "      <td>11.000000</td>\n",
       "      <td>103.000000</td>\n",
       "      <td>0.000000</td>\n",
       "    </tr>\n",
       "    <tr>\n",
       "      <th>50%</th>\n",
       "      <td>62.000000</td>\n",
       "      <td>11.000000</td>\n",
       "      <td>107.000000</td>\n",
       "      <td>0.000000</td>\n",
       "    </tr>\n",
       "    <tr>\n",
       "      <th>75%</th>\n",
       "      <td>69.000000</td>\n",
       "      <td>11.000000</td>\n",
       "      <td>307.000000</td>\n",
       "      <td>0.000000</td>\n",
       "    </tr>\n",
       "    <tr>\n",
       "      <th>max</th>\n",
       "      <td>69.000000</td>\n",
       "      <td>51.000000</td>\n",
       "      <td>399.000000</td>\n",
       "      <td>1.000000</td>\n",
       "    </tr>\n",
       "  </tbody>\n",
       "</table>\n",
       "</div>"
      ],
      "text/plain": [
       "             disrict    client_catg         region         target\n",
       "count  135493.000000  135493.000000  135493.000000  135493.000000\n",
       "mean       63.511222      11.512506     206.159809       0.055841\n",
       "std         3.354400       4.423761     104.207044       0.229614\n",
       "min        60.000000      11.000000     101.000000       0.000000\n",
       "25%        62.000000      11.000000     103.000000       0.000000\n",
       "50%        62.000000      11.000000     107.000000       0.000000\n",
       "75%        69.000000      11.000000     307.000000       0.000000\n",
       "max        69.000000      51.000000     399.000000       1.000000"
      ]
     },
     "execution_count": 70,
     "metadata": {},
     "output_type": "execute_result"
    }
   ],
   "source": [
    "df_client_train.describe()"
   ]
  },
  {
   "cell_type": "markdown",
   "id": "81e12075",
   "metadata": {},
   "source": [
    "### 2.5.2 Invoice "
   ]
  },
  {
   "cell_type": "code",
   "execution_count": 90,
   "id": "630ba7d0",
   "metadata": {},
   "outputs": [
    {
     "data": {
      "text/plain": [
       "['client_id',\n",
       " 'invoice_date',\n",
       " 'tarif_type',\n",
       " 'counter_number',\n",
       " 'counter_statue',\n",
       " 'counter_code',\n",
       " 'reading_remarque',\n",
       " 'counter_coefficient',\n",
       " 'consommation_level_1',\n",
       " 'consommation_level_2',\n",
       " 'consommation_level_3',\n",
       " 'consommation_level_4',\n",
       " 'old_index',\n",
       " 'new_index',\n",
       " 'months_number',\n",
       " 'counter_type']"
      ]
     },
     "execution_count": 90,
     "metadata": {},
     "output_type": "execute_result"
    }
   ],
   "source": [
    "df_invoice_train.columns.tolist()"
   ]
  },
  {
   "cell_type": "code",
   "execution_count": 94,
   "id": "fe541b8c",
   "metadata": {},
   "outputs": [
    {
     "data": {
      "image/png": "[encoded data removed]",
      "text/plain": [
       "<Figure size 400x300 with 1 Axes>"
      ]
     },
     "metadata": {},
     "output_type": "display_data"
    }
   ],
   "source": [
    "plt.figure(figsize=(4,3));\n",
    "sns.countplot(data=df_invoice_train, x='counter_type');"
   ]
  },
  {
   "cell_type": "code",
   "execution_count": 100,
   "id": "bc0a797e",
   "metadata": {},
   "outputs": [
    {
     "data": {
      "image/png": "[encoded data removed]",
      "text/plain": [
       "<Figure size 800x300 with 1 Axes>"
      ]
     },
     "metadata": {},
     "output_type": "display_data"
    }
   ],
   "source": [
    "plt.figure(figsize=(8,3));\n",
    "sns.countplot(data=df_invoice_train, x='counter_statue');"
   ]
  },
  {
   "cell_type": "code",
   "execution_count": 96,
   "id": "030f4358",
   "metadata": {},
   "outputs": [
    {
     "data": {
      "image/png": "[encoded data removed]",
      "text/plain": [
       "<Figure size 400x300 with 1 Axes>"
      ]
     },
     "metadata": {},
     "output_type": "display_data"
    }
   ],
   "source": [
    "plt.figure(figsize=(4,3));\n",
    "sns.countplot(data=df_invoice_train, x='tarif_type');"
   ]
  },
  {
   "cell_type": "code",
   "execution_count": 98,
   "id": "18223e58",
   "metadata": {},
   "outputs": [
    {
     "data": {
      "image/png": "[encoded data removed]",
      "text/plain": [
       "<Figure size 400x300 with 1 Axes>"
      ]
     },
     "metadata": {},
     "output_type": "display_data"
    }
   ],
   "source": [
    "plt.figure(figsize=(4,3));\n",
    "sns.countplot(data=df_invoice_train, x='reading_remarque');"
   ]
  },
  {
   "cell_type": "code",
   "execution_count": 69,
   "id": "5832ad70",
   "metadata": {},
   "outputs": [
    {
     "data": {
      "text/html": [
       "<div>\n",
       "<style scoped>\n",
       "    .dataframe tbody tr th:only-of-type {\n",
       "        vertical-align: middle;\n",
       "    }\n",
       "\n",
       "    .dataframe tbody tr th {\n",
       "        vertical-align: top;\n",
       "    }\n",
       "\n",
       "    .dataframe thead th {\n",
       "        text-align: right;\n",
       "    }\n",
       "</style>\n",
       "<table border=\"1\" class=\"dataframe\">\n",
       "  <thead>\n",
       "    <tr style=\"text-align: right;\">\n",
       "      <th></th>\n",
       "      <th>tarif_type</th>\n",
       "      <th>counter_number</th>\n",
       "      <th>counter_code</th>\n",
       "      <th>reading_remarque</th>\n",
       "      <th>counter_coefficient</th>\n",
       "      <th>consommation_level_1</th>\n",
       "      <th>consommation_level_2</th>\n",
       "      <th>consommation_level_3</th>\n",
       "      <th>consommation_level_4</th>\n",
       "      <th>old_index</th>\n",
       "      <th>new_index</th>\n",
       "      <th>months_number</th>\n",
       "    </tr>\n",
       "  </thead>\n",
       "  <tbody>\n",
       "    <tr>\n",
       "      <th>count</th>\n",
       "      <td>4.476749e+06</td>\n",
       "      <td>4.476749e+06</td>\n",
       "      <td>4.476749e+06</td>\n",
       "      <td>4.476749e+06</td>\n",
       "      <td>4.476749e+06</td>\n",
       "      <td>4.476749e+06</td>\n",
       "      <td>4.476749e+06</td>\n",
       "      <td>4.476749e+06</td>\n",
       "      <td>4.476749e+06</td>\n",
       "      <td>4.476749e+06</td>\n",
       "      <td>4.476749e+06</td>\n",
       "      <td>4.476749e+06</td>\n",
       "    </tr>\n",
       "    <tr>\n",
       "      <th>mean</th>\n",
       "      <td>2.012804e+01</td>\n",
       "      <td>1.230587e+11</td>\n",
       "      <td>1.724884e+02</td>\n",
       "      <td>7.321702e+00</td>\n",
       "      <td>1.003040e+00</td>\n",
       "      <td>4.109795e+02</td>\n",
       "      <td>1.093225e+02</td>\n",
       "      <td>2.030620e+01</td>\n",
       "      <td>5.292588e+01</td>\n",
       "      <td>1.776700e+04</td>\n",
       "      <td>1.834970e+04</td>\n",
       "      <td>4.483095e+01</td>\n",
       "    </tr>\n",
       "    <tr>\n",
       "      <th>std</th>\n",
       "      <td>1.347256e+01</td>\n",
       "      <td>1.657267e+12</td>\n",
       "      <td>1.338871e+02</td>\n",
       "      <td>1.571654e+00</td>\n",
       "      <td>3.083466e-01</td>\n",
       "      <td>7.573080e+02</td>\n",
       "      <td>1.220123e+03</td>\n",
       "      <td>1.574239e+02</td>\n",
       "      <td>8.754725e+02</td>\n",
       "      <td>4.036693e+04</td>\n",
       "      <td>4.095321e+04</td>\n",
       "      <td>3.128335e+03</td>\n",
       "    </tr>\n",
       "    <tr>\n",
       "      <th>min</th>\n",
       "      <td>8.000000e+00</td>\n",
       "      <td>0.000000e+00</td>\n",
       "      <td>0.000000e+00</td>\n",
       "      <td>5.000000e+00</td>\n",
       "      <td>0.000000e+00</td>\n",
       "      <td>0.000000e+00</td>\n",
       "      <td>0.000000e+00</td>\n",
       "      <td>0.000000e+00</td>\n",
       "      <td>0.000000e+00</td>\n",
       "      <td>0.000000e+00</td>\n",
       "      <td>0.000000e+00</td>\n",
       "      <td>0.000000e+00</td>\n",
       "    </tr>\n",
       "    <tr>\n",
       "      <th>25%</th>\n",
       "      <td>1.100000e+01</td>\n",
       "      <td>1.211080e+05</td>\n",
       "      <td>5.000000e+00</td>\n",
       "      <td>6.000000e+00</td>\n",
       "      <td>1.000000e+00</td>\n",
       "      <td>7.900000e+01</td>\n",
       "      <td>0.000000e+00</td>\n",
       "      <td>0.000000e+00</td>\n",
       "      <td>0.000000e+00</td>\n",
       "      <td>1.791000e+03</td>\n",
       "      <td>2.056000e+03</td>\n",
       "      <td>4.000000e+00</td>\n",
       "    </tr>\n",
       "    <tr>\n",
       "      <th>50%</th>\n",
       "      <td>1.100000e+01</td>\n",
       "      <td>4.945610e+05</td>\n",
       "      <td>2.030000e+02</td>\n",
       "      <td>8.000000e+00</td>\n",
       "      <td>1.000000e+00</td>\n",
       "      <td>2.740000e+02</td>\n",
       "      <td>0.000000e+00</td>\n",
       "      <td>0.000000e+00</td>\n",
       "      <td>0.000000e+00</td>\n",
       "      <td>7.690000e+03</td>\n",
       "      <td>8.192000e+03</td>\n",
       "      <td>4.000000e+00</td>\n",
       "    </tr>\n",
       "    <tr>\n",
       "      <th>75%</th>\n",
       "      <td>4.000000e+01</td>\n",
       "      <td>1.115161e+06</td>\n",
       "      <td>2.070000e+02</td>\n",
       "      <td>9.000000e+00</td>\n",
       "      <td>1.000000e+00</td>\n",
       "      <td>6.000000e+02</td>\n",
       "      <td>0.000000e+00</td>\n",
       "      <td>0.000000e+00</td>\n",
       "      <td>0.000000e+00</td>\n",
       "      <td>2.166000e+04</td>\n",
       "      <td>2.234300e+04</td>\n",
       "      <td>4.000000e+00</td>\n",
       "    </tr>\n",
       "    <tr>\n",
       "      <th>max</th>\n",
       "      <td>4.500000e+01</td>\n",
       "      <td>2.798115e+13</td>\n",
       "      <td>6.000000e+02</td>\n",
       "      <td>4.130000e+02</td>\n",
       "      <td>5.000000e+01</td>\n",
       "      <td>9.999100e+05</td>\n",
       "      <td>9.990730e+05</td>\n",
       "      <td>6.449200e+04</td>\n",
       "      <td>5.479460e+05</td>\n",
       "      <td>2.800280e+06</td>\n",
       "      <td>2.870972e+06</td>\n",
       "      <td>6.366240e+05</td>\n",
       "    </tr>\n",
       "  </tbody>\n",
       "</table>\n",
       "</div>"
      ],
      "text/plain": [
       "         tarif_type  counter_number  counter_code  reading_remarque  \\\n",
       "count  4.476749e+06    4.476749e+06  4.476749e+06      4.476749e+06   \n",
       "mean   2.012804e+01    1.230587e+11  1.724884e+02      7.321702e+00   \n",
       "std    1.347256e+01    1.657267e+12  1.338871e+02      1.571654e+00   \n",
       "min    8.000000e+00    0.000000e+00  0.000000e+00      5.000000e+00   \n",
       "25%    1.100000e+01    1.211080e+05  5.000000e+00      6.000000e+00   \n",
       "50%    1.100000e+01    4.945610e+05  2.030000e+02      8.000000e+00   \n",
       "75%    4.000000e+01    1.115161e+06  2.070000e+02      9.000000e+00   \n",
       "max    4.500000e+01    2.798115e+13  6.000000e+02      4.130000e+02   \n",
       "\n",
       "       counter_coefficient  consommation_level_1  consommation_level_2  \\\n",
       "count         4.476749e+06          4.476749e+06          4.476749e+06   \n",
       "mean          1.003040e+00          4.109795e+02          1.093225e+02   \n",
       "std           3.083466e-01          7.573080e+02          1.220123e+03   \n",
       "min           0.000000e+00          0.000000e+00          0.000000e+00   \n",
       "25%           1.000000e+00          7.900000e+01          0.000000e+00   \n",
       "50%           1.000000e+00          2.740000e+02          0.000000e+00   \n",
       "75%           1.000000e+00          6.000000e+02          0.000000e+00   \n",
       "max           5.000000e+01          9.999100e+05          9.990730e+05   \n",
       "\n",
       "       consommation_level_3  consommation_level_4     old_index     new_index  \\\n",
       "count          4.476749e+06          4.476749e+06  4.476749e+06  4.476749e+06   \n",
       "mean           2.030620e+01          5.292588e+01  1.776700e+04  1.834970e+04   \n",
       "std            1.574239e+02          8.754725e+02  4.036693e+04  4.095321e+04   \n",
       "min            0.000000e+00          0.000000e+00  0.000000e+00  0.000000e+00   \n",
       "25%            0.000000e+00          0.000000e+00  1.791000e+03  2.056000e+03   \n",
       "50%            0.000000e+00          0.000000e+00  7.690000e+03  8.192000e+03   \n",
       "75%            0.000000e+00          0.000000e+00  2.166000e+04  2.234300e+04   \n",
       "max            6.449200e+04          5.479460e+05  2.800280e+06  2.870972e+06   \n",
       "\n",
       "       months_number  \n",
       "count   4.476749e+06  \n",
       "mean    4.483095e+01  \n",
       "std     3.128335e+03  \n",
       "min     0.000000e+00  \n",
       "25%     4.000000e+00  \n",
       "50%     4.000000e+00  \n",
       "75%     4.000000e+00  \n",
       "max     6.366240e+05  "
      ]
     },
     "execution_count": 69,
     "metadata": {},
     "output_type": "execute_result"
    }
   ],
   "source": [
    "df_invoice_train.describe()"
   ]
  },
  {
   "cell_type": "markdown",
   "id": "fccddf10",
   "metadata": {},
   "source": [
    "## 2.6 Main Conclusions"
   ]
  },
  {
   "cell_type": "markdown",
   "id": "eb26441b",
   "metadata": {},
   "source": [
    "- A maioria dos dados é referente ao consumo de energia elétrica\n",
    "- A frequencia com que os clientes é cobrado pode ser variável"
   ]
  },
  {
   "cell_type": "markdown",
   "id": "d3d11217",
   "metadata": {},
   "source": [
    "# 3. Feature Engineering "
   ]
  },
  {
   "cell_type": "markdown",
   "id": "a8739b80",
   "metadata": {},
   "source": [
    "# 4. Filtering Variables "
   ]
  },
  {
   "cell_type": "markdown",
   "id": "eae8f7c9",
   "metadata": {},
   "source": [
    "# 5. Exploratory Data Analysis "
   ]
  },
  {
   "cell_type": "markdown",
   "id": "35dbca87",
   "metadata": {},
   "source": [
    "# 6. Data Preparation "
   ]
  },
  {
   "cell_type": "markdown",
   "id": "2b836e41",
   "metadata": {},
   "source": [
    "# 7. Feature Selection "
   ]
  },
  {
   "cell_type": "markdown",
   "id": "e99bb5f5",
   "metadata": {},
   "source": [
    "# 8. Machine Learning Modeling "
   ]
  },
  {
   "cell_type": "markdown",
   "id": "69fe1df1",
   "metadata": {},
   "source": [
    "# 9. Fine Tuning "
   ]
  },
  {
   "cell_type": "markdown",
   "id": "1cf0e81d",
   "metadata": {},
   "source": [
    "# 10. Cross-validation "
   ]
  }
 ],
 "metadata": {
  "kernelspec": {
   "display_name": "Python 3 (ipykernel)",
   "language": "python",
   "name": "python3"
  },
  "language_info": {
   "codemirror_mode": {
    "name": "ipython",
    "version": 3
   },
   "file_extension": ".py",
   "mimetype": "text/x-python",
   "name": "python",
   "nbconvert_exporter": "python",
   "pygments_lexer": "ipython3",
   "version": "3.9.13"
  }
 },
 "nbformat": 4,
 "nbformat_minor": 5
}
