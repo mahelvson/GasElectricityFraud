{
 "cells": [
  {
   "cell_type": "markdown",
   "id": "3f25c6d3",
   "metadata": {},
   "source": [
    "# 0. Imports "
   ]
  },
  {
   "cell_type": "code",
   "execution_count": 195,
   "id": "33202f43",
   "metadata": {},
   "outputs": [],
   "source": [
    "import pandas as pd\n",
    "import matplotlib.pyplot as plt\n",
    "import seaborn as sns\n",
    "import sklearn as sk\n",
    "import numpy as np\n",
    "\n",
    "from datetime import datetime"
   ]
  },
  {
   "cell_type": "markdown",
   "id": "01982709",
   "metadata": {},
   "source": [
    "# 1. Loading Data "
   ]
  },
  {
   "cell_type": "code",
   "execution_count": 212,
   "id": "5703447e",
   "metadata": {},
   "outputs": [],
   "source": [
    "df_client_train = pd.read_csv('dataset/client_train.csv', low_memory=False)\n",
    "df_client_test = pd.read_csv('dataset/client_test.csv', low_memory=False)\n",
    "df_invoice_train = pd.read_csv('dataset/invoice_train.csv', low_memory=False)\n",
    "df_invoice_test = pd.read_csv('dataset/invoice_test.csv', low_memory=False)"
   ]
  },
  {
   "cell_type": "markdown",
   "id": "18dfb256",
   "metadata": {},
   "source": [
    "# 2. Data Description\n"
   ]
  },
  {
   "cell_type": "markdown",
   "id": "ee1b6a01",
   "metadata": {},
   "source": [
    "## 2.1 Data Dimensions "
   ]
  },
  {
   "cell_type": "code",
   "execution_count": 247,
   "id": "36ea63bd",
   "metadata": {},
   "outputs": [
    {
     "name": "stdout",
     "output_type": "stream",
     "text": [
      "df_client_train (lines = 20001, cols = 6)\n"
     ]
    }
   ],
   "source": [
    "print(f'df_client_train (lines = {df_client_train.shape[0]}, cols = {df_client_train.shape[1]})')"
   ]
  },
  {
   "cell_type": "code",
   "execution_count": 214,
   "id": "33b60ad5",
   "metadata": {},
   "outputs": [
    {
     "name": "stdout",
     "output_type": "stream",
     "text": [
      "df_client_test (lines = 58069, cols = 5)\n"
     ]
    }
   ],
   "source": [
    "print(f'df_client_test (lines = {df_client_test.shape[0]}, cols = {df_client_test.shape[1]})')"
   ]
  },
  {
   "cell_type": "code",
   "execution_count": 215,
   "id": "a3304407",
   "metadata": {},
   "outputs": [
    {
     "name": "stdout",
     "output_type": "stream",
     "text": [
      "df_invoice_train (lines = 4476749, cols = 16)\n"
     ]
    }
   ],
   "source": [
    "print(f'df_invoice_train (lines = {df_invoice_train.shape[0]}, cols = {df_invoice_train.shape[1]})')"
   ]
  },
  {
   "cell_type": "code",
   "execution_count": 216,
   "id": "b0c8802c",
   "metadata": {},
   "outputs": [
    {
     "name": "stdout",
     "output_type": "stream",
     "text": [
      "df_invoice_test (lines = 1939730, cols = 16)\n"
     ]
    }
   ],
   "source": [
    "print(f'df_invoice_test (lines = {df_invoice_test.shape[0]}, cols = {df_invoice_test.shape[1]})')"
   ]
  },
  {
   "cell_type": "code",
   "execution_count": 217,
   "id": "c17c4406",
   "metadata": {},
   "outputs": [],
   "source": [
    "df_client_train = df_client_train.loc[0:20000, :]\n",
    "df_client_test = df_client_test.loc[0:5000, :]\n",
    "df_invoice_train = df_invoice_train.loc[0:100000, :]\n",
    "df_invoice_test = df_invoice_test.loc[0:30000, :]"
   ]
  },
  {
   "cell_type": "markdown",
   "id": "16beadfb",
   "metadata": {},
   "source": [
    "## 2.2 Data Types "
   ]
  },
  {
   "cell_type": "code",
   "execution_count": 218,
   "id": "89f92ef3",
   "metadata": {},
   "outputs": [
    {
     "name": "stdout",
     "output_type": "stream",
     "text": [
      "df_client_train\n",
      "---------------\n"
     ]
    },
    {
     "data": {
      "text/plain": [
       "disrict            int64\n",
       "client_id         object\n",
       "client_catg        int64\n",
       "region             int64\n",
       "creation_date     object\n",
       "target           float64\n",
       "dtype: object"
      ]
     },
     "execution_count": 218,
     "metadata": {},
     "output_type": "execute_result"
    }
   ],
   "source": [
    "print('df_client_train')\n",
    "print('---------------')\n",
    "df_client_train.dtypes"
   ]
  },
  {
   "cell_type": "code",
   "execution_count": 219,
   "id": "80806e03",
   "metadata": {},
   "outputs": [
    {
     "name": "stdout",
     "output_type": "stream",
     "text": [
      "df_client_test\n",
      "---------------\n"
     ]
    },
    {
     "data": {
      "text/plain": [
       "disrict           int64\n",
       "client_id        object\n",
       "client_catg       int64\n",
       "region            int64\n",
       "creation_date    object\n",
       "dtype: object"
      ]
     },
     "execution_count": 219,
     "metadata": {},
     "output_type": "execute_result"
    }
   ],
   "source": [
    "print('df_client_test')\n",
    "print('---------------')\n",
    "df_client_test.dtypes"
   ]
  },
  {
   "cell_type": "code",
   "execution_count": 220,
   "id": "4b1521e5",
   "metadata": {},
   "outputs": [
    {
     "name": "stdout",
     "output_type": "stream",
     "text": [
      "df_invoice_train\n",
      "---------------\n"
     ]
    },
    {
     "data": {
      "text/plain": [
       "client_id               object\n",
       "invoice_date            object\n",
       "tarif_type               int64\n",
       "counter_number           int64\n",
       "counter_statue          object\n",
       "counter_code             int64\n",
       "reading_remarque         int64\n",
       "counter_coefficient      int64\n",
       "consommation_level_1     int64\n",
       "consommation_level_2     int64\n",
       "consommation_level_3     int64\n",
       "consommation_level_4     int64\n",
       "old_index                int64\n",
       "new_index                int64\n",
       "months_number            int64\n",
       "counter_type            object\n",
       "dtype: object"
      ]
     },
     "execution_count": 220,
     "metadata": {},
     "output_type": "execute_result"
    }
   ],
   "source": [
    "print('df_invoice_train')\n",
    "print('---------------')\n",
    "df_invoice_train.dtypes"
   ]
  },
  {
   "cell_type": "code",
   "execution_count": 221,
   "id": "6ec964eb",
   "metadata": {},
   "outputs": [
    {
     "name": "stdout",
     "output_type": "stream",
     "text": [
      "df_invoice_test\n",
      "---------------\n"
     ]
    },
    {
     "data": {
      "text/plain": [
       "client_id               object\n",
       "invoice_date            object\n",
       "tarif_type               int64\n",
       "counter_number           int64\n",
       "counter_statue           int64\n",
       "counter_code             int64\n",
       "reading_remarque         int64\n",
       "counter_coefficient      int64\n",
       "consommation_level_1     int64\n",
       "consommation_level_2     int64\n",
       "consommation_level_3     int64\n",
       "consommation_level_4     int64\n",
       "old_index                int64\n",
       "new_index                int64\n",
       "months_number            int64\n",
       "counter_type            object\n",
       "dtype: object"
      ]
     },
     "execution_count": 221,
     "metadata": {},
     "output_type": "execute_result"
    }
   ],
   "source": [
    "print('df_invoice_test')\n",
    "print('---------------')\n",
    "df_invoice_test.dtypes"
   ]
  },
  {
   "cell_type": "markdown",
   "id": "54fb05c6",
   "metadata": {},
   "source": [
    "## 2.3 Checkin NA "
   ]
  },
  {
   "cell_type": "code",
   "execution_count": 222,
   "id": "260b5232",
   "metadata": {},
   "outputs": [
    {
     "data": {
      "text/plain": [
       "disrict          0\n",
       "client_id        0\n",
       "client_catg      0\n",
       "region           0\n",
       "creation_date    0\n",
       "target           0\n",
       "dtype: int64"
      ]
     },
     "execution_count": 222,
     "metadata": {},
     "output_type": "execute_result"
    }
   ],
   "source": [
    "df_client_train.isna().sum()"
   ]
  },
  {
   "cell_type": "code",
   "execution_count": 223,
   "id": "498e44f8",
   "metadata": {},
   "outputs": [
    {
     "data": {
      "text/plain": [
       "disrict          0\n",
       "client_id        0\n",
       "client_catg      0\n",
       "region           0\n",
       "creation_date    0\n",
       "dtype: int64"
      ]
     },
     "execution_count": 223,
     "metadata": {},
     "output_type": "execute_result"
    }
   ],
   "source": [
    "df_client_test.isna().sum()"
   ]
  },
  {
   "cell_type": "code",
   "execution_count": 224,
   "id": "e3df75ed",
   "metadata": {},
   "outputs": [
    {
     "data": {
      "text/plain": [
       "client_id               0\n",
       "invoice_date            0\n",
       "tarif_type              0\n",
       "counter_number          0\n",
       "counter_statue          0\n",
       "counter_code            0\n",
       "reading_remarque        0\n",
       "counter_coefficient     0\n",
       "consommation_level_1    0\n",
       "consommation_level_2    0\n",
       "consommation_level_3    0\n",
       "consommation_level_4    0\n",
       "old_index               0\n",
       "new_index               0\n",
       "months_number           0\n",
       "counter_type            0\n",
       "dtype: int64"
      ]
     },
     "execution_count": 224,
     "metadata": {},
     "output_type": "execute_result"
    }
   ],
   "source": [
    "df_invoice_train.isna().sum()"
   ]
  },
  {
   "cell_type": "code",
   "execution_count": 225,
   "id": "ce9dfe0a",
   "metadata": {},
   "outputs": [
    {
     "data": {
      "text/plain": [
       "client_id               0\n",
       "invoice_date            0\n",
       "tarif_type              0\n",
       "counter_number          0\n",
       "counter_statue          0\n",
       "counter_code            0\n",
       "reading_remarque        0\n",
       "counter_coefficient     0\n",
       "consommation_level_1    0\n",
       "consommation_level_2    0\n",
       "consommation_level_3    0\n",
       "consommation_level_4    0\n",
       "old_index               0\n",
       "new_index               0\n",
       "months_number           0\n",
       "counter_type            0\n",
       "dtype: int64"
      ]
     },
     "execution_count": 225,
     "metadata": {},
     "output_type": "execute_result"
    }
   ],
   "source": [
    "df_invoice_test.isna().sum()"
   ]
  },
  {
   "cell_type": "markdown",
   "id": "b2a34f2c",
   "metadata": {},
   "source": [
    "## 2.4 Changing Types "
   ]
  },
  {
   "cell_type": "code",
   "execution_count": 227,
   "id": "7a282abe",
   "metadata": {},
   "outputs": [],
   "source": [
    "# From object to datetime\n",
    "df_client_train.creation_date = pd.to_datetime(df_client_train.creation_date, infer_datetime_format=True)\n",
    "df_client_test.creation_date = pd.to_datetime(df_client_test.creation_date, infer_datetime_format=True)"
   ]
  },
  {
   "cell_type": "code",
   "execution_count": 228,
   "id": "797f8161",
   "metadata": {},
   "outputs": [
    {
     "data": {
      "text/plain": [
       "disrict                   int64\n",
       "client_id                object\n",
       "client_catg               int64\n",
       "region                    int64\n",
       "creation_date    datetime64[ns]\n",
       "target                  float64\n",
       "dtype: object"
      ]
     },
     "execution_count": 228,
     "metadata": {},
     "output_type": "execute_result"
    }
   ],
   "source": [
    "df_client_train.dtypes"
   ]
  },
  {
   "cell_type": "code",
   "execution_count": 231,
   "id": "648f50d8",
   "metadata": {},
   "outputs": [],
   "source": [
    "# From object to datetime\n",
    "df_invoice_train.invoice_date = pd.to_datetime(df_invoice_train.invoice_date, infer_datetime_format=True)\n",
    "df_invoice_test.invoice_date = pd.to_datetime(df_invoice_test.invoice_date, infer_datetime_format=True)"
   ]
  },
  {
   "cell_type": "code",
   "execution_count": 232,
   "id": "b17a3ba3",
   "metadata": {},
   "outputs": [
    {
     "data": {
      "text/plain": [
       "client_id                       object\n",
       "invoice_date            datetime64[ns]\n",
       "tarif_type                       int64\n",
       "counter_number                   int64\n",
       "counter_statue                  object\n",
       "counter_code                     int64\n",
       "reading_remarque                 int64\n",
       "counter_coefficient              int64\n",
       "consommation_level_1             int64\n",
       "consommation_level_2             int64\n",
       "consommation_level_3             int64\n",
       "consommation_level_4             int64\n",
       "old_index                        int64\n",
       "new_index                        int64\n",
       "months_number                    int64\n",
       "counter_type                    object\n",
       "dtype: object"
      ]
     },
     "execution_count": 232,
     "metadata": {},
     "output_type": "execute_result"
    }
   ],
   "source": [
    "df_invoice_train.dtypes"
   ]
  },
  {
   "cell_type": "markdown",
   "id": "b233943f",
   "metadata": {},
   "source": [
    "## 2.5 Basic Descriptive Statistics "
   ]
  },
  {
   "cell_type": "markdown",
   "id": "d4385914",
   "metadata": {},
   "source": [
    "### 2.5.1 Clients "
   ]
  },
  {
   "cell_type": "code",
   "execution_count": 233,
   "id": "39c0a044",
   "metadata": {},
   "outputs": [
    {
     "data": {
      "text/plain": [
       "['disrict', 'client_id', 'client_catg', 'region', 'creation_date', 'target']"
      ]
     },
     "execution_count": 233,
     "metadata": {},
     "output_type": "execute_result"
    }
   ],
   "source": [
    "df_client_train.columns.tolist()"
   ]
  },
  {
   "cell_type": "code",
   "execution_count": 234,
   "id": "baf0124d",
   "metadata": {},
   "outputs": [
    {
     "data": {
      "text/plain": [
       "target\n",
       "0.0    0.943103\n",
       "1.0    0.056897\n",
       "dtype: float64"
      ]
     },
     "execution_count": 234,
     "metadata": {},
     "output_type": "execute_result"
    }
   ],
   "source": [
    "df_client_train.value_counts(subset='target', normalize=True)"
   ]
  },
  {
   "cell_type": "code",
   "execution_count": 235,
   "id": "2b22ec29",
   "metadata": {},
   "outputs": [
    {
     "data": {
      "image/png": "[encoded data removed]",
      "text/plain": [
       "<Figure size 400x300 with 1 Axes>"
      ]
     },
     "metadata": {},
     "output_type": "display_data"
    }
   ],
   "source": [
    "plt.figure(figsize=(4,3))\n",
    "sns.countplot(data=df_client_train, x='target');"
   ]
  },
  {
   "cell_type": "code",
   "execution_count": 236,
   "id": "02328694",
   "metadata": {},
   "outputs": [
    {
     "data": {
      "image/png": "[encoded data removed]",
      "text/plain": [
       "<Figure size 400x300 with 1 Axes>"
      ]
     },
     "metadata": {},
     "output_type": "display_data"
    }
   ],
   "source": [
    "plt.figure(figsize=(4,3))\n",
    "sns.countplot(data=df_client_train, x='client_catg');"
   ]
  },
  {
   "cell_type": "code",
   "execution_count": 237,
   "id": "832f170d",
   "metadata": {},
   "outputs": [
    {
     "data": {
      "image/png": "[encoded data removed]",
      "text/plain": [
       "<Figure size 400x300 with 1 Axes>"
      ]
     },
     "metadata": {},
     "output_type": "display_data"
    }
   ],
   "source": [
    "plt.figure(figsize=(4,3))\n",
    "sns.countplot(data=df_client_train, x='disrict');"
   ]
  },
  {
   "cell_type": "code",
   "execution_count": 238,
   "id": "b22ca779",
   "metadata": {},
   "outputs": [
    {
     "data": {
      "image/png": "[encoded data removed]",
      "text/plain": [
       "<Figure size 1400x300 with 1 Axes>"
      ]
     },
     "metadata": {},
     "output_type": "display_data"
    }
   ],
   "source": [
    "plt.figure(figsize=(14,3))\n",
    "sns.countplot(data=df_client_train, x='region');"
   ]
  },
  {
   "cell_type": "code",
   "execution_count": 239,
   "id": "b0969280",
   "metadata": {},
   "outputs": [
    {
     "data": {
      "text/html": [
       "<div>\n",
       "<style scoped>\n",
       "    .dataframe tbody tr th:only-of-type {\n",
       "        vertical-align: middle;\n",
       "    }\n",
       "\n",
       "    .dataframe tbody tr th {\n",
       "        vertical-align: top;\n",
       "    }\n",
       "\n",
       "    .dataframe thead th {\n",
       "        text-align: right;\n",
       "    }\n",
       "</style>\n",
       "<table border=\"1\" class=\"dataframe\">\n",
       "  <thead>\n",
       "    <tr style=\"text-align: right;\">\n",
       "      <th></th>\n",
       "      <th>disrict</th>\n",
       "      <th>client_catg</th>\n",
       "      <th>region</th>\n",
       "      <th>target</th>\n",
       "    </tr>\n",
       "  </thead>\n",
       "  <tbody>\n",
       "    <tr>\n",
       "      <th>count</th>\n",
       "      <td>20001.000000</td>\n",
       "      <td>20001.000000</td>\n",
       "      <td>20001.000000</td>\n",
       "      <td>20001.000000</td>\n",
       "    </tr>\n",
       "    <tr>\n",
       "      <th>mean</th>\n",
       "      <td>63.517174</td>\n",
       "      <td>11.497275</td>\n",
       "      <td>205.620319</td>\n",
       "      <td>0.056897</td>\n",
       "    </tr>\n",
       "    <tr>\n",
       "      <th>std</th>\n",
       "      <td>3.360821</td>\n",
       "      <td>4.355457</td>\n",
       "      <td>104.228445</td>\n",
       "      <td>0.231652</td>\n",
       "    </tr>\n",
       "    <tr>\n",
       "      <th>min</th>\n",
       "      <td>60.000000</td>\n",
       "      <td>11.000000</td>\n",
       "      <td>101.000000</td>\n",
       "      <td>0.000000</td>\n",
       "    </tr>\n",
       "    <tr>\n",
       "      <th>25%</th>\n",
       "      <td>62.000000</td>\n",
       "      <td>11.000000</td>\n",
       "      <td>101.000000</td>\n",
       "      <td>0.000000</td>\n",
       "    </tr>\n",
       "    <tr>\n",
       "      <th>50%</th>\n",
       "      <td>62.000000</td>\n",
       "      <td>11.000000</td>\n",
       "      <td>107.000000</td>\n",
       "      <td>0.000000</td>\n",
       "    </tr>\n",
       "    <tr>\n",
       "      <th>75%</th>\n",
       "      <td>69.000000</td>\n",
       "      <td>11.000000</td>\n",
       "      <td>307.000000</td>\n",
       "      <td>0.000000</td>\n",
       "    </tr>\n",
       "    <tr>\n",
       "      <th>max</th>\n",
       "      <td>69.000000</td>\n",
       "      <td>51.000000</td>\n",
       "      <td>399.000000</td>\n",
       "      <td>1.000000</td>\n",
       "    </tr>\n",
       "  </tbody>\n",
       "</table>\n",
       "</div>"
      ],
      "text/plain": [
       "            disrict   client_catg        region        target\n",
       "count  20001.000000  20001.000000  20001.000000  20001.000000\n",
       "mean      63.517174     11.497275    205.620319      0.056897\n",
       "std        3.360821      4.355457    104.228445      0.231652\n",
       "min       60.000000     11.000000    101.000000      0.000000\n",
       "25%       62.000000     11.000000    101.000000      0.000000\n",
       "50%       62.000000     11.000000    107.000000      0.000000\n",
       "75%       69.000000     11.000000    307.000000      0.000000\n",
       "max       69.000000     51.000000    399.000000      1.000000"
      ]
     },
     "execution_count": 239,
     "metadata": {},
     "output_type": "execute_result"
    }
   ],
   "source": [
    "df_client_train.describe()"
   ]
  },
  {
   "cell_type": "markdown",
   "id": "81e12075",
   "metadata": {},
   "source": [
    "### 2.5.2 Invoice "
   ]
  },
  {
   "cell_type": "code",
   "execution_count": 240,
   "id": "630ba7d0",
   "metadata": {},
   "outputs": [
    {
     "data": {
      "text/plain": [
       "['client_id',\n",
       " 'invoice_date',\n",
       " 'tarif_type',\n",
       " 'counter_number',\n",
       " 'counter_statue',\n",
       " 'counter_code',\n",
       " 'reading_remarque',\n",
       " 'counter_coefficient',\n",
       " 'consommation_level_1',\n",
       " 'consommation_level_2',\n",
       " 'consommation_level_3',\n",
       " 'consommation_level_4',\n",
       " 'old_index',\n",
       " 'new_index',\n",
       " 'months_number',\n",
       " 'counter_type']"
      ]
     },
     "execution_count": 240,
     "metadata": {},
     "output_type": "execute_result"
    }
   ],
   "source": [
    "df_invoice_train.columns.tolist()"
   ]
  },
  {
   "cell_type": "code",
   "execution_count": 241,
   "id": "fe541b8c",
   "metadata": {},
   "outputs": [
    {
     "data": {
      "image/png": "[encoded data removed]",
      "text/plain": [
       "<Figure size 400x300 with 1 Axes>"
      ]
     },
     "metadata": {},
     "output_type": "display_data"
    }
   ],
   "source": [
    "plt.figure(figsize=(4,3));\n",
    "sns.countplot(data=df_invoice_train, x='counter_type');"
   ]
  },
  {
   "cell_type": "code",
   "execution_count": 242,
   "id": "bc0a797e",
   "metadata": {},
   "outputs": [
    {
     "data": {
      "image/png": "[encoded data removed]",
      "text/plain": [
       "<Figure size 800x300 with 1 Axes>"
      ]
     },
     "metadata": {},
     "output_type": "display_data"
    }
   ],
   "source": [
    "plt.figure(figsize=(8,3));\n",
    "sns.countplot(data=df_invoice_train, x='counter_statue');"
   ]
  },
  {
   "cell_type": "code",
   "execution_count": 243,
   "id": "030f4358",
   "metadata": {},
   "outputs": [
    {
     "data": {
      "image/png": "[encoded data removed]",
      "text/plain": [
       "<Figure size 400x300 with 1 Axes>"
      ]
     },
     "metadata": {},
     "output_type": "display_data"
    }
   ],
   "source": [
    "plt.figure(figsize=(4,3));\n",
    "sns.countplot(data=df_invoice_train, x='tarif_type');"
   ]
  },
  {
   "cell_type": "code",
   "execution_count": 244,
   "id": "18223e58",
   "metadata": {},
   "outputs": [
    {
     "data": {
      "image/png": "[encoded data removed]",
      "text/plain": [
       "<Figure size 400x300 with 1 Axes>"
      ]
     },
     "metadata": {},
     "output_type": "display_data"
    }
   ],
   "source": [
    "plt.figure(figsize=(4,3));\n",
    "sns.countplot(data=df_invoice_train, x='reading_remarque');"
   ]
  },
  {
   "cell_type": "code",
   "execution_count": 245,
   "id": "cdad7fc8",
   "metadata": {},
   "outputs": [
    {
     "data": {
      "image/png": "[encoded data removed]",
      "text/plain": [
       "<Figure size 400x300 with 1 Axes>"
      ]
     },
     "metadata": {},
     "output_type": "display_data"
    }
   ],
   "source": [
    "plt.figure(figsize=(4,3));\n",
    "sns.countplot(data=df_invoice_train, x='months_number');"
   ]
  },
  {
   "cell_type": "code",
   "execution_count": 246,
   "id": "5832ad70",
   "metadata": {},
   "outputs": [
    {
     "data": {
      "text/html": [
       "<div>\n",
       "<style scoped>\n",
       "    .dataframe tbody tr th:only-of-type {\n",
       "        vertical-align: middle;\n",
       "    }\n",
       "\n",
       "    .dataframe tbody tr th {\n",
       "        vertical-align: top;\n",
       "    }\n",
       "\n",
       "    .dataframe thead th {\n",
       "        text-align: right;\n",
       "    }\n",
       "</style>\n",
       "<table border=\"1\" class=\"dataframe\">\n",
       "  <thead>\n",
       "    <tr style=\"text-align: right;\">\n",
       "      <th></th>\n",
       "      <th>tarif_type</th>\n",
       "      <th>counter_number</th>\n",
       "      <th>counter_code</th>\n",
       "      <th>reading_remarque</th>\n",
       "      <th>counter_coefficient</th>\n",
       "      <th>consommation_level_1</th>\n",
       "      <th>consommation_level_2</th>\n",
       "      <th>consommation_level_3</th>\n",
       "      <th>consommation_level_4</th>\n",
       "      <th>old_index</th>\n",
       "      <th>new_index</th>\n",
       "      <th>months_number</th>\n",
       "    </tr>\n",
       "  </thead>\n",
       "  <tbody>\n",
       "    <tr>\n",
       "      <th>count</th>\n",
       "      <td>100001.000000</td>\n",
       "      <td>1.000010e+05</td>\n",
       "      <td>100001.000000</td>\n",
       "      <td>100001.000000</td>\n",
       "      <td>100001.0</td>\n",
       "      <td>100001.000000</td>\n",
       "      <td>100001.000000</td>\n",
       "      <td>100001.000000</td>\n",
       "      <td>100001.000000</td>\n",
       "      <td>100001.000000</td>\n",
       "      <td>100001.000000</td>\n",
       "      <td>100001.000000</td>\n",
       "    </tr>\n",
       "    <tr>\n",
       "      <th>mean</th>\n",
       "      <td>20.092109</td>\n",
       "      <td>9.797026e+10</td>\n",
       "      <td>171.883421</td>\n",
       "      <td>7.311727</td>\n",
       "      <td>1.0</td>\n",
       "      <td>406.375296</td>\n",
       "      <td>94.554804</td>\n",
       "      <td>22.190148</td>\n",
       "      <td>44.412576</td>\n",
       "      <td>16931.870411</td>\n",
       "      <td>17517.110229</td>\n",
       "      <td>61.304577</td>\n",
       "    </tr>\n",
       "    <tr>\n",
       "      <th>std</th>\n",
       "      <td>13.450331</td>\n",
       "      <td>1.440724e+12</td>\n",
       "      <td>132.721463</td>\n",
       "      <td>1.358718</td>\n",
       "      <td>0.0</td>\n",
       "      <td>662.485643</td>\n",
       "      <td>658.729097</td>\n",
       "      <td>352.089642</td>\n",
       "      <td>638.812985</td>\n",
       "      <td>38414.956627</td>\n",
       "      <td>38860.940923</td>\n",
       "      <td>1688.741482</td>\n",
       "    </tr>\n",
       "    <tr>\n",
       "      <th>min</th>\n",
       "      <td>9.000000</td>\n",
       "      <td>0.000000e+00</td>\n",
       "      <td>5.000000</td>\n",
       "      <td>6.000000</td>\n",
       "      <td>1.0</td>\n",
       "      <td>0.000000</td>\n",
       "      <td>0.000000</td>\n",
       "      <td>0.000000</td>\n",
       "      <td>0.000000</td>\n",
       "      <td>0.000000</td>\n",
       "      <td>0.000000</td>\n",
       "      <td>1.000000</td>\n",
       "    </tr>\n",
       "    <tr>\n",
       "      <th>25%</th>\n",
       "      <td>11.000000</td>\n",
       "      <td>1.244480e+05</td>\n",
       "      <td>5.000000</td>\n",
       "      <td>6.000000</td>\n",
       "      <td>1.0</td>\n",
       "      <td>75.000000</td>\n",
       "      <td>0.000000</td>\n",
       "      <td>0.000000</td>\n",
       "      <td>0.000000</td>\n",
       "      <td>1706.000000</td>\n",
       "      <td>1997.000000</td>\n",
       "      <td>4.000000</td>\n",
       "    </tr>\n",
       "    <tr>\n",
       "      <th>50%</th>\n",
       "      <td>11.000000</td>\n",
       "      <td>5.109530e+05</td>\n",
       "      <td>203.000000</td>\n",
       "      <td>6.000000</td>\n",
       "      <td>1.0</td>\n",
       "      <td>263.000000</td>\n",
       "      <td>0.000000</td>\n",
       "      <td>0.000000</td>\n",
       "      <td>0.000000</td>\n",
       "      <td>7309.000000</td>\n",
       "      <td>7839.000000</td>\n",
       "      <td>4.000000</td>\n",
       "    </tr>\n",
       "    <tr>\n",
       "      <th>75%</th>\n",
       "      <td>40.000000</td>\n",
       "      <td>1.145727e+06</td>\n",
       "      <td>207.000000</td>\n",
       "      <td>9.000000</td>\n",
       "      <td>1.0</td>\n",
       "      <td>600.000000</td>\n",
       "      <td>0.000000</td>\n",
       "      <td>0.000000</td>\n",
       "      <td>0.000000</td>\n",
       "      <td>20777.000000</td>\n",
       "      <td>21536.000000</td>\n",
       "      <td>4.000000</td>\n",
       "    </tr>\n",
       "    <tr>\n",
       "      <th>max</th>\n",
       "      <td>45.000000</td>\n",
       "      <td>2.738110e+13</td>\n",
       "      <td>506.000000</td>\n",
       "      <td>9.000000</td>\n",
       "      <td>1.0</td>\n",
       "      <td>93385.000000</td>\n",
       "      <td>99398.000000</td>\n",
       "      <td>45360.000000</td>\n",
       "      <td>87776.000000</td>\n",
       "      <td>867253.000000</td>\n",
       "      <td>877022.000000</td>\n",
       "      <td>99104.000000</td>\n",
       "    </tr>\n",
       "  </tbody>\n",
       "</table>\n",
       "</div>"
      ],
      "text/plain": [
       "          tarif_type  counter_number   counter_code  reading_remarque  \\\n",
       "count  100001.000000    1.000010e+05  100001.000000     100001.000000   \n",
       "mean       20.092109    9.797026e+10     171.883421          7.311727   \n",
       "std        13.450331    1.440724e+12     132.721463          1.358718   \n",
       "min         9.000000    0.000000e+00       5.000000          6.000000   \n",
       "25%        11.000000    1.244480e+05       5.000000          6.000000   \n",
       "50%        11.000000    5.109530e+05     203.000000          6.000000   \n",
       "75%        40.000000    1.145727e+06     207.000000          9.000000   \n",
       "max        45.000000    2.738110e+13     506.000000          9.000000   \n",
       "\n",
       "       counter_coefficient  consommation_level_1  consommation_level_2  \\\n",
       "count             100001.0         100001.000000         100001.000000   \n",
       "mean                   1.0            406.375296             94.554804   \n",
       "std                    0.0            662.485643            658.729097   \n",
       "min                    1.0              0.000000              0.000000   \n",
       "25%                    1.0             75.000000              0.000000   \n",
       "50%                    1.0            263.000000              0.000000   \n",
       "75%                    1.0            600.000000              0.000000   \n",
       "max                    1.0          93385.000000          99398.000000   \n",
       "\n",
       "       consommation_level_3  consommation_level_4      old_index  \\\n",
       "count         100001.000000         100001.000000  100001.000000   \n",
       "mean              22.190148             44.412576   16931.870411   \n",
       "std              352.089642            638.812985   38414.956627   \n",
       "min                0.000000              0.000000       0.000000   \n",
       "25%                0.000000              0.000000    1706.000000   \n",
       "50%                0.000000              0.000000    7309.000000   \n",
       "75%                0.000000              0.000000   20777.000000   \n",
       "max            45360.000000          87776.000000  867253.000000   \n",
       "\n",
       "           new_index  months_number  \n",
       "count  100001.000000  100001.000000  \n",
       "mean    17517.110229      61.304577  \n",
       "std     38860.940923    1688.741482  \n",
       "min         0.000000       1.000000  \n",
       "25%      1997.000000       4.000000  \n",
       "50%      7839.000000       4.000000  \n",
       "75%     21536.000000       4.000000  \n",
       "max    877022.000000   99104.000000  "
      ]
     },
     "execution_count": 246,
     "metadata": {},
     "output_type": "execute_result"
    }
   ],
   "source": [
    "df_invoice_train.describe()"
   ]
  },
  {
   "cell_type": "markdown",
   "id": "fccddf10",
   "metadata": {},
   "source": [
    "## 2.6 Main Conclusions"
   ]
  },
  {
   "cell_type": "markdown",
   "id": "eb26441b",
   "metadata": {},
   "source": [
    "- A maioria dos dados é referente ao consumo de energia elétrica\n",
    "- A frequencia com que os clientes é cobrado pode ser variável"
   ]
  },
  {
   "cell_type": "markdown",
   "id": "d3d11217",
   "metadata": {},
   "source": [
    "# 3. Filtering Variables"
   ]
  },
  {
   "cell_type": "code",
   "execution_count": 300,
   "id": "bde1eb01",
   "metadata": {},
   "outputs": [],
   "source": [
    "df3_clients = df_client_train.copy()\n",
    "df3_invoice = df_invoice_train.copy()"
   ]
  },
  {
   "cell_type": "markdown",
   "id": "19ddf5f4",
   "metadata": {},
   "source": [
    "Filtrando apenas consumidores de energia elétrica"
   ]
  },
  {
   "cell_type": "code",
   "execution_count": 301,
   "id": "85b50cb8",
   "metadata": {},
   "outputs": [],
   "source": [
    "df3_invoice = df3_invoice[df3_invoice['counter_type'] == 'ELEC']"
   ]
  },
  {
   "cell_type": "code",
   "execution_count": 302,
   "id": "f0917c2b",
   "metadata": {
    "scrolled": true
   },
   "outputs": [
    {
     "data": {
      "text/html": [
       "<div>\n",
       "<style scoped>\n",
       "    .dataframe tbody tr th:only-of-type {\n",
       "        vertical-align: middle;\n",
       "    }\n",
       "\n",
       "    .dataframe tbody tr th {\n",
       "        vertical-align: top;\n",
       "    }\n",
       "\n",
       "    .dataframe thead th {\n",
       "        text-align: right;\n",
       "    }\n",
       "</style>\n",
       "<table border=\"1\" class=\"dataframe\">\n",
       "  <thead>\n",
       "    <tr style=\"text-align: right;\">\n",
       "      <th></th>\n",
       "      <th>disrict</th>\n",
       "      <th>client_id</th>\n",
       "      <th>client_catg</th>\n",
       "      <th>region</th>\n",
       "      <th>creation_date</th>\n",
       "      <th>target</th>\n",
       "    </tr>\n",
       "  </thead>\n",
       "  <tbody>\n",
       "    <tr>\n",
       "      <th>0</th>\n",
       "      <td>60</td>\n",
       "      <td>train_Client_0</td>\n",
       "      <td>11</td>\n",
       "      <td>101</td>\n",
       "      <td>1994-12-31</td>\n",
       "      <td>0.0</td>\n",
       "    </tr>\n",
       "    <tr>\n",
       "      <th>1</th>\n",
       "      <td>69</td>\n",
       "      <td>train_Client_1</td>\n",
       "      <td>11</td>\n",
       "      <td>107</td>\n",
       "      <td>2002-05-29</td>\n",
       "      <td>0.0</td>\n",
       "    </tr>\n",
       "    <tr>\n",
       "      <th>2</th>\n",
       "      <td>62</td>\n",
       "      <td>train_Client_10</td>\n",
       "      <td>11</td>\n",
       "      <td>301</td>\n",
       "      <td>1986-03-13</td>\n",
       "      <td>0.0</td>\n",
       "    </tr>\n",
       "    <tr>\n",
       "      <th>3</th>\n",
       "      <td>69</td>\n",
       "      <td>train_Client_100</td>\n",
       "      <td>11</td>\n",
       "      <td>105</td>\n",
       "      <td>1996-11-07</td>\n",
       "      <td>0.0</td>\n",
       "    </tr>\n",
       "    <tr>\n",
       "      <th>4</th>\n",
       "      <td>62</td>\n",
       "      <td>train_Client_1000</td>\n",
       "      <td>11</td>\n",
       "      <td>303</td>\n",
       "      <td>2014-10-14</td>\n",
       "      <td>0.0</td>\n",
       "    </tr>\n",
       "  </tbody>\n",
       "</table>\n",
       "</div>"
      ],
      "text/plain": [
       "   disrict          client_id  client_catg  region creation_date  target\n",
       "0       60     train_Client_0           11     101    1994-12-31     0.0\n",
       "1       69     train_Client_1           11     107    2002-05-29     0.0\n",
       "2       62    train_Client_10           11     301    1986-03-13     0.0\n",
       "3       69   train_Client_100           11     105    1996-11-07     0.0\n",
       "4       62  train_Client_1000           11     303    2014-10-14     0.0"
      ]
     },
     "execution_count": 302,
     "metadata": {},
     "output_type": "execute_result"
    }
   ],
   "source": [
    "df3_clients.head()"
   ]
  },
  {
   "cell_type": "markdown",
   "id": "a8739b80",
   "metadata": {},
   "source": [
    "# 4. Feature Engineering"
   ]
  },
  {
   "cell_type": "code",
   "execution_count": 303,
   "id": "55d8aa09",
   "metadata": {},
   "outputs": [],
   "source": [
    "df4_invoice = df3_invoice.copy()\n",
    "df4_clients = df3_clients.copy()"
   ]
  },
  {
   "cell_type": "markdown",
   "id": "0f48b007",
   "metadata": {},
   "source": [
    "## 4.1 Period between invoices "
   ]
  },
  {
   "cell_type": "markdown",
   "id": "5b15bb9b",
   "metadata": {},
   "source": [
    "Notei que o atributo 'months_number', que deveria apresentar a quantidade de meses que foi faturada apresentava algumas inconsistênia. Portanto, resolvi checar isso manualmente, calculando a quantidade de meses entre duas cobranças."
   ]
  },
  {
   "cell_type": "code",
   "execution_count": 304,
   "id": "33d9598a",
   "metadata": {},
   "outputs": [],
   "source": [
    "df4_invoice = df4_invoice.sort_values(by='invoice_date')\n",
    "df4_invoice.loc[0,'last_invoice_date'] = np.nan\n",
    "clients = df4_invoice.client_id.unique()\n",
    "for client in clients:\n",
    "    cont = 0\n",
    "    for index, row in df4_invoice[df4_invoice.client_id == client].iterrows():\n",
    "        if cont == 0:\n",
    "            initial_date = row['invoice_date']\n",
    "        else:\n",
    "            df4_invoice.loc[index, 'last_invoice_date'] = initial_date.date()\n",
    "            initial_date = df4_invoice.loc[index, 'invoice_date']\n",
    "        cont=+1"
   ]
  },
  {
   "cell_type": "code",
   "execution_count": 305,
   "id": "708382a0",
   "metadata": {},
   "outputs": [],
   "source": [
    "df4_invoice = df4_invoice.dropna()"
   ]
  },
  {
   "cell_type": "code",
   "execution_count": 292,
   "id": "29dd623c",
   "metadata": {},
   "outputs": [],
   "source": [
    "def check_period(row):\n",
    "    \"Esta funcao calcula a quantidade de meses entre duas datas\"\n",
    "    initial = row['last_invoice_date'] # datetime.strptime(row['last_invoice_date'], \"%Y-%m-%d\").date()\n",
    "    final = row['invoice_date'] # datetime.strptime(row['invoice_date'], \"%Y-%m-%d\").date()\n",
    "    \n",
    "    return (final.year - initial.year) * 12 + final.month - initial.month"
   ]
  },
  {
   "cell_type": "code",
   "execution_count": 306,
   "id": "8bce833a",
   "metadata": {},
   "outputs": [],
   "source": [
    "df4_invoice['months_between'] = df4_invoice.apply(check_period, axis = 1)"
   ]
  },
  {
   "cell_type": "markdown",
   "id": "36ce1143",
   "metadata": {},
   "source": [
    "Um outro fator que foi verificado, foi o intervalo entre cobranças não padronizado entre todos os clientes e nem mesmo para um único cliente. Na figura abaixo notamos que o valor mais comum para o intervalo entre cobranças é o de 4 meses."
   ]
  },
  {
   "cell_type": "code",
   "execution_count": 307,
   "id": "6c1e2739",
   "metadata": {},
   "outputs": [
    {
     "data": {
      "image/png": "[encoded data removed]",
      "text/plain": [
       "<Figure size 1200x300 with 1 Axes>"
      ]
     },
     "metadata": {},
     "output_type": "display_data"
    }
   ],
   "source": [
    "plt.figure(figsize=(12,3))\n",
    "sns.countplot(data=df4_invoice, x='months_between');"
   ]
  },
  {
   "cell_type": "markdown",
   "id": "d7eeabe1",
   "metadata": {},
   "source": [
    "## 4.2 Clients new features "
   ]
  },
  {
   "cell_type": "markdown",
   "id": "fdabd52d",
   "metadata": {},
   "source": [
    "Como a ideia é encontrar fraudes, busquei construir algums features que representam o padrão de consumo de cada consumidor."
   ]
  },
  {
   "cell_type": "code",
   "execution_count": 333,
   "id": "756ed370",
   "metadata": {},
   "outputs": [
    {
     "data": {
      "text/html": [
       "<div>\n",
       "<style scoped>\n",
       "    .dataframe tbody tr th:only-of-type {\n",
       "        vertical-align: middle;\n",
       "    }\n",
       "\n",
       "    .dataframe tbody tr th {\n",
       "        vertical-align: top;\n",
       "    }\n",
       "\n",
       "    .dataframe thead th {\n",
       "        text-align: right;\n",
       "    }\n",
       "</style>\n",
       "<table border=\"1\" class=\"dataframe\">\n",
       "  <thead>\n",
       "    <tr style=\"text-align: right;\">\n",
       "      <th></th>\n",
       "      <th>client_id</th>\n",
       "      <th>invoice_date</th>\n",
       "      <th>tarif_type</th>\n",
       "      <th>counter_number</th>\n",
       "      <th>counter_statue</th>\n",
       "      <th>counter_code</th>\n",
       "      <th>reading_remarque</th>\n",
       "      <th>counter_coefficient</th>\n",
       "      <th>consommation_level_1</th>\n",
       "      <th>consommation_level_2</th>\n",
       "      <th>consommation_level_3</th>\n",
       "      <th>consommation_level_4</th>\n",
       "      <th>old_index</th>\n",
       "      <th>new_index</th>\n",
       "      <th>months_number</th>\n",
       "      <th>counter_type</th>\n",
       "      <th>last_invoice_date</th>\n",
       "      <th>months_between</th>\n",
       "    </tr>\n",
       "  </thead>\n",
       "  <tbody>\n",
       "    <tr>\n",
       "      <th>51618</th>\n",
       "      <td>train_Client_101393</td>\n",
       "      <td>1979-08-28</td>\n",
       "      <td>10</td>\n",
       "      <td>7952365</td>\n",
       "      <td>0</td>\n",
       "      <td>102</td>\n",
       "      <td>6</td>\n",
       "      <td>1</td>\n",
       "      <td>28</td>\n",
       "      <td>0</td>\n",
       "      <td>0</td>\n",
       "      <td>0</td>\n",
       "      <td>2</td>\n",
       "      <td>30</td>\n",
       "      <td>4</td>\n",
       "      <td>ELEC</td>\n",
       "      <td>1979-04-25</td>\n",
       "      <td>4</td>\n",
       "    </tr>\n",
       "    <tr>\n",
       "      <th>51617</th>\n",
       "      <td>train_Client_101393</td>\n",
       "      <td>1979-10-25</td>\n",
       "      <td>10</td>\n",
       "      <td>7952365</td>\n",
       "      <td>0</td>\n",
       "      <td>102</td>\n",
       "      <td>6</td>\n",
       "      <td>1</td>\n",
       "      <td>44</td>\n",
       "      <td>0</td>\n",
       "      <td>0</td>\n",
       "      <td>0</td>\n",
       "      <td>30</td>\n",
       "      <td>74</td>\n",
       "      <td>2</td>\n",
       "      <td>ELEC</td>\n",
       "      <td>1979-08-28</td>\n",
       "      <td>2</td>\n",
       "    </tr>\n",
       "    <tr>\n",
       "      <th>51616</th>\n",
       "      <td>train_Client_101393</td>\n",
       "      <td>1979-12-26</td>\n",
       "      <td>10</td>\n",
       "      <td>7952365</td>\n",
       "      <td>0</td>\n",
       "      <td>102</td>\n",
       "      <td>6</td>\n",
       "      <td>1</td>\n",
       "      <td>66</td>\n",
       "      <td>0</td>\n",
       "      <td>0</td>\n",
       "      <td>0</td>\n",
       "      <td>74</td>\n",
       "      <td>140</td>\n",
       "      <td>2</td>\n",
       "      <td>ELEC</td>\n",
       "      <td>1979-10-25</td>\n",
       "      <td>2</td>\n",
       "    </tr>\n",
       "    <tr>\n",
       "      <th>51615</th>\n",
       "      <td>train_Client_101393</td>\n",
       "      <td>1980-02-26</td>\n",
       "      <td>10</td>\n",
       "      <td>7952365</td>\n",
       "      <td>0</td>\n",
       "      <td>102</td>\n",
       "      <td>6</td>\n",
       "      <td>1</td>\n",
       "      <td>84</td>\n",
       "      <td>0</td>\n",
       "      <td>0</td>\n",
       "      <td>0</td>\n",
       "      <td>140</td>\n",
       "      <td>224</td>\n",
       "      <td>2</td>\n",
       "      <td>ELEC</td>\n",
       "      <td>1979-12-26</td>\n",
       "      <td>2</td>\n",
       "    </tr>\n",
       "    <tr>\n",
       "      <th>61613</th>\n",
       "      <td>train_Client_101648</td>\n",
       "      <td>1980-12-11</td>\n",
       "      <td>10</td>\n",
       "      <td>8630278</td>\n",
       "      <td>0</td>\n",
       "      <td>202</td>\n",
       "      <td>6</td>\n",
       "      <td>1</td>\n",
       "      <td>196</td>\n",
       "      <td>0</td>\n",
       "      <td>0</td>\n",
       "      <td>0</td>\n",
       "      <td>1030</td>\n",
       "      <td>1226</td>\n",
       "      <td>2</td>\n",
       "      <td>ELEC</td>\n",
       "      <td>1980-10-09</td>\n",
       "      <td>2</td>\n",
       "    </tr>\n",
       "  </tbody>\n",
       "</table>\n",
       "</div>"
      ],
      "text/plain": [
       "                 client_id invoice_date  tarif_type  counter_number  \\\n",
       "51618  train_Client_101393   1979-08-28          10         7952365   \n",
       "51617  train_Client_101393   1979-10-25          10         7952365   \n",
       "51616  train_Client_101393   1979-12-26          10         7952365   \n",
       "51615  train_Client_101393   1980-02-26          10         7952365   \n",
       "61613  train_Client_101648   1980-12-11          10         8630278   \n",
       "\n",
       "      counter_statue  counter_code  reading_remarque  counter_coefficient  \\\n",
       "51618              0           102                 6                    1   \n",
       "51617              0           102                 6                    1   \n",
       "51616              0           102                 6                    1   \n",
       "51615              0           102                 6                    1   \n",
       "61613              0           202                 6                    1   \n",
       "\n",
       "       consommation_level_1  consommation_level_2  consommation_level_3  \\\n",
       "51618                    28                     0                     0   \n",
       "51617                    44                     0                     0   \n",
       "51616                    66                     0                     0   \n",
       "51615                    84                     0                     0   \n",
       "61613                   196                     0                     0   \n",
       "\n",
       "       consommation_level_4  old_index  new_index  months_number counter_type  \\\n",
       "51618                     0          2         30              4         ELEC   \n",
       "51617                     0         30         74              2         ELEC   \n",
       "51616                     0         74        140              2         ELEC   \n",
       "51615                     0        140        224              2         ELEC   \n",
       "61613                     0       1030       1226              2         ELEC   \n",
       "\n",
       "      last_invoice_date  months_between  \n",
       "51618        1979-04-25               4  \n",
       "51617        1979-08-28               2  \n",
       "51616        1979-10-25               2  \n",
       "51615        1979-12-26               2  \n",
       "61613        1980-10-09               2  "
      ]
     },
     "execution_count": 333,
     "metadata": {},
     "output_type": "execute_result"
    }
   ],
   "source": [
    "df4_invoice.head()"
   ]
  },
  {
   "cell_type": "code",
   "execution_count": 329,
   "id": "12783c50",
   "metadata": {},
   "outputs": [],
   "source": [
    "df4_avg = df4_invoice.groupby(by='client_id').mean()[['consommation_level_1', 'consommation_level_2', 'consommation_level_3', 'months_between']]\n",
    "df4_avg.columns = ['avg_con1', 'avg_con2', 'avg_con3', 'avg_month_invoice']\n",
    "\n",
    "df4_std = df4_invoice.groupby(by='client_id').std()[['consommation_level_1', 'consommation_level_2', 'consommation_level_3', 'months_between']]\n",
    "df4_std.columns = ['std_con1', 'std_con2', 'std_con3', 'std_month_invoice']\n",
    "\n",
    "df4_min = df4_invoice.groupby(by='client_id').min()[['consommation_level_1', 'consommation_level_2', 'consommation_level_3', 'months_between']]\n",
    "df4_min.columns = ['min_con1', 'min_con2', 'min_con3', 'min_month_invoice']\n",
    "\n",
    "df4_max = df4_invoice.groupby(by='client_id').max()[['consommation_level_1', 'consommation_level_2', 'consommation_level_3', 'months_between']]\n",
    "df4_max.columns = ['max_con1', 'max_con2', 'max_con3', 'max_month_invoice']\n",
    "\n",
    "df4_q1 = df4_invoice.groupby(by='client_id')[['consommation_level_1', 'consommation_level_2', 'consommation_level_3', 'months_between']].quantile(q=0.25)\n",
    "df4_q1.columns = ['q1_con1', 'q1_con2', 'q1_con3', 'q1_month_invoice']\n",
    "\n",
    "df4_q3 = df4_invoice.groupby(by='client_id')[['consommation_level_1', 'consommation_level_2', 'consommation_level_3', 'months_between']].quantile(q=0.75)\n",
    "df4_q3.columns = ['q3_con1', 'q3_con2', 'q3_con3', 'q3_month_invoice']"
   ]
  },
  {
   "cell_type": "code",
   "execution_count": 331,
   "id": "5832606a",
   "metadata": {},
   "outputs": [],
   "source": [
    "df_features = pd.concat([df4_avg, df4_std, df4_min, df4_max, df4_q1, df4_q3], axis = 1)"
   ]
  },
  {
   "cell_type": "code",
   "execution_count": 336,
   "id": "60961b11",
   "metadata": {},
   "outputs": [
    {
     "data": {
      "text/plain": [
       "Index(['avg_con1', 'avg_con2', 'avg_con3', 'avg_month_invoice', 'std_con1',\n",
       "       'std_con2', 'std_con3', 'std_month_invoice', 'min_con1', 'min_con2',\n",
       "       'min_con3', 'min_month_invoice', 'max_con1', 'max_con2', 'max_con3',\n",
       "       'max_month_invoice', 'q1_con1', 'q1_con2', 'q1_con3',\n",
       "       'q1_month_invoice', 'q3_con1', 'q3_con2', 'q3_con3',\n",
       "       'q3_month_invoice'],\n",
       "      dtype='object')"
      ]
     },
     "execution_count": 336,
     "metadata": {},
     "output_type": "execute_result"
    }
   ],
   "source": [
    "df_features.columns"
   ]
  },
  {
   "cell_type": "markdown",
   "id": "eae8f7c9",
   "metadata": {},
   "source": [
    "# 5. Statistical Analysis "
   ]
  },
  {
   "cell_type": "markdown",
   "id": "c1c1d76f",
   "metadata": {},
   "source": [
    "## 5.1 Univariate Statistics"
   ]
  },
  {
   "cell_type": "markdown",
   "id": "abffc1b2",
   "metadata": {},
   "source": [
    "## 5.2 Bivariate Statistics"
   ]
  },
  {
   "cell_type": "markdown",
   "id": "e764989b",
   "metadata": {},
   "source": [
    "## 5.3 Time Series Statistics "
   ]
  },
  {
   "cell_type": "markdown",
   "id": "35dbca87",
   "metadata": {},
   "source": [
    "# 6. Data Preparation "
   ]
  },
  {
   "cell_type": "markdown",
   "id": "2b836e41",
   "metadata": {},
   "source": [
    "# 7. Feature Selection "
   ]
  },
  {
   "cell_type": "markdown",
   "id": "e99bb5f5",
   "metadata": {},
   "source": [
    "# 8. Machine Learning Modeling "
   ]
  },
  {
   "cell_type": "markdown",
   "id": "69fe1df1",
   "metadata": {},
   "source": [
    "# 9. Fine Tuning "
   ]
  },
  {
   "cell_type": "markdown",
   "id": "1cf0e81d",
   "metadata": {},
   "source": [
    "# 10. Cross-validation "
   ]
  }
 ],
 "metadata": {
  "kernelspec": {
   "display_name": "Python 3 (ipykernel)",
   "language": "python",
   "name": "python3"
  },
  "language_info": {
   "codemirror_mode": {
    "name": "ipython",
    "version": 3
   },
   "file_extension": ".py",
   "mimetype": "text/x-python",
   "name": "python",
   "nbconvert_exporter": "python",
   "pygments_lexer": "ipython3",
   "version": "3.9.13"
  }
 },
 "nbformat": 4,
 "nbformat_minor": 5
}
